{
  "nbformat": 4,
  "nbformat_minor": 0,
  "metadata": {
    "colab": {
      "name": "big_data_assignment5.ipnyb",
      "provenance": [],
      "collapsed_sections": [],
      "authorship_tag": "ABX9TyMKLcsV/Ju81Cj/mykLh1YD",
      "include_colab_link": true
    },
    "kernelspec": {
      "name": "python3",
      "display_name": "Python 3"
    }
  },
  "cells": [
    {
      "cell_type": "markdown",
      "metadata": {
        "id": "view-in-github",
        "colab_type": "text"
      },
      "source": [
        "<a href=\"https://colab.research.google.com/github/EChilin5/assignment_5_big_data/blob/master/big_data_assignment5_ipnyb.ipynb\" target=\"_parent\"><img src=\"https://colab.research.google.com/assets/colab-badge.svg\" alt=\"Open In Colab\"/></a>"
      ]
    },
    {
      "cell_type": "code",
      "metadata": {
        "id": "WWL-wc51KFGL",
        "outputId": "e7b1b0b4-3748-4a3c-e483-3b89fa95caf7",
        "colab": {
          "base_uri": "https://localhost:8080/"
        }
      },
      "source": [
        "!pip install spacy\n",
        "!pip install newsapi-python"
      ],
      "execution_count": null,
      "outputs": [
        {
          "output_type": "stream",
          "text": [
            "Requirement already satisfied: spacy in /usr/local/lib/python3.6/dist-packages (2.2.4)\n",
            "Requirement already satisfied: tqdm<5.0.0,>=4.38.0 in /usr/local/lib/python3.6/dist-packages (from spacy) (4.41.1)\n",
            "Requirement already satisfied: blis<0.5.0,>=0.4.0 in /usr/local/lib/python3.6/dist-packages (from spacy) (0.4.1)\n",
            "Requirement already satisfied: murmurhash<1.1.0,>=0.28.0 in /usr/local/lib/python3.6/dist-packages (from spacy) (1.0.2)\n",
            "Requirement already satisfied: setuptools in /usr/local/lib/python3.6/dist-packages (from spacy) (50.3.2)\n",
            "Requirement already satisfied: wasabi<1.1.0,>=0.4.0 in /usr/local/lib/python3.6/dist-packages (from spacy) (0.8.0)\n",
            "Requirement already satisfied: catalogue<1.1.0,>=0.0.7 in /usr/local/lib/python3.6/dist-packages (from spacy) (1.0.0)\n",
            "Requirement already satisfied: plac<1.2.0,>=0.9.6 in /usr/local/lib/python3.6/dist-packages (from spacy) (1.1.3)\n",
            "Requirement already satisfied: numpy>=1.15.0 in /usr/local/lib/python3.6/dist-packages (from spacy) (1.18.5)\n",
            "Requirement already satisfied: thinc==7.4.0 in /usr/local/lib/python3.6/dist-packages (from spacy) (7.4.0)\n",
            "Requirement already satisfied: preshed<3.1.0,>=3.0.2 in /usr/local/lib/python3.6/dist-packages (from spacy) (3.0.2)\n",
            "Requirement already satisfied: requests<3.0.0,>=2.13.0 in /usr/local/lib/python3.6/dist-packages (from spacy) (2.23.0)\n",
            "Requirement already satisfied: cymem<2.1.0,>=2.0.2 in /usr/local/lib/python3.6/dist-packages (from spacy) (2.0.3)\n",
            "Requirement already satisfied: srsly<1.1.0,>=1.0.2 in /usr/local/lib/python3.6/dist-packages (from spacy) (1.0.2)\n",
            "Requirement already satisfied: importlib-metadata>=0.20; python_version < \"3.8\" in /usr/local/lib/python3.6/dist-packages (from catalogue<1.1.0,>=0.0.7->spacy) (2.0.0)\n",
            "Requirement already satisfied: chardet<4,>=3.0.2 in /usr/local/lib/python3.6/dist-packages (from requests<3.0.0,>=2.13.0->spacy) (3.0.4)\n",
            "Requirement already satisfied: certifi>=2017.4.17 in /usr/local/lib/python3.6/dist-packages (from requests<3.0.0,>=2.13.0->spacy) (2020.6.20)\n",
            "Requirement already satisfied: idna<3,>=2.5 in /usr/local/lib/python3.6/dist-packages (from requests<3.0.0,>=2.13.0->spacy) (2.10)\n",
            "Requirement already satisfied: urllib3!=1.25.0,!=1.25.1,<1.26,>=1.21.1 in /usr/local/lib/python3.6/dist-packages (from requests<3.0.0,>=2.13.0->spacy) (1.24.3)\n",
            "Requirement already satisfied: zipp>=0.5 in /usr/local/lib/python3.6/dist-packages (from importlib-metadata>=0.20; python_version < \"3.8\"->catalogue<1.1.0,>=0.0.7->spacy) (3.3.1)\n",
            "Collecting newsapi-python\n",
            "  Downloading https://files.pythonhosted.org/packages/de/9e/9050199ac7cbc755d1c49577fdaa5517901124b574264b3602a8b8028440/newsapi_python-0.2.6-py2.py3-none-any.whl\n",
            "Requirement already satisfied: requests<3.0.0 in /usr/local/lib/python3.6/dist-packages (from newsapi-python) (2.23.0)\n",
            "Requirement already satisfied: chardet<4,>=3.0.2 in /usr/local/lib/python3.6/dist-packages (from requests<3.0.0->newsapi-python) (3.0.4)\n",
            "Requirement already satisfied: idna<3,>=2.5 in /usr/local/lib/python3.6/dist-packages (from requests<3.0.0->newsapi-python) (2.10)\n",
            "Requirement already satisfied: urllib3!=1.25.0,!=1.25.1,<1.26,>=1.21.1 in /usr/local/lib/python3.6/dist-packages (from requests<3.0.0->newsapi-python) (1.24.3)\n",
            "Requirement already satisfied: certifi>=2017.4.17 in /usr/local/lib/python3.6/dist-packages (from requests<3.0.0->newsapi-python) (2020.6.20)\n",
            "Installing collected packages: newsapi-python\n",
            "Successfully installed newsapi-python-0.2.6\n"
          ],
          "name": "stdout"
        }
      ]
    },
    {
      "cell_type": "code",
      "metadata": {
        "id": "Dlj15RzrK6od",
        "outputId": "ec90ce62-7df2-47ef-fe8f-ce9e667ad537",
        "colab": {
          "base_uri": "https://localhost:8080/"
        }
      },
      "source": [
        "!python -m spacy download en_core_web_lg"
      ],
      "execution_count": null,
      "outputs": [
        {
          "output_type": "stream",
          "text": [
            "Collecting en_core_web_lg==2.2.5\n",
            "\u001b[?25l  Downloading https://github.com/explosion/spacy-models/releases/download/en_core_web_lg-2.2.5/en_core_web_lg-2.2.5.tar.gz (827.9MB)\n",
            "\u001b[K     |████████████████████████████████| 827.9MB 1.2MB/s \n",
            "\u001b[?25hRequirement already satisfied: spacy>=2.2.2 in /usr/local/lib/python3.6/dist-packages (from en_core_web_lg==2.2.5) (2.2.4)\n",
            "Requirement already satisfied: preshed<3.1.0,>=3.0.2 in /usr/local/lib/python3.6/dist-packages (from spacy>=2.2.2->en_core_web_lg==2.2.5) (3.0.2)\n",
            "Requirement already satisfied: cymem<2.1.0,>=2.0.2 in /usr/local/lib/python3.6/dist-packages (from spacy>=2.2.2->en_core_web_lg==2.2.5) (2.0.3)\n",
            "Requirement already satisfied: srsly<1.1.0,>=1.0.2 in /usr/local/lib/python3.6/dist-packages (from spacy>=2.2.2->en_core_web_lg==2.2.5) (1.0.2)\n",
            "Requirement already satisfied: plac<1.2.0,>=0.9.6 in /usr/local/lib/python3.6/dist-packages (from spacy>=2.2.2->en_core_web_lg==2.2.5) (1.1.3)\n",
            "Requirement already satisfied: setuptools in /usr/local/lib/python3.6/dist-packages (from spacy>=2.2.2->en_core_web_lg==2.2.5) (50.3.2)\n",
            "Requirement already satisfied: numpy>=1.15.0 in /usr/local/lib/python3.6/dist-packages (from spacy>=2.2.2->en_core_web_lg==2.2.5) (1.18.5)\n",
            "Requirement already satisfied: blis<0.5.0,>=0.4.0 in /usr/local/lib/python3.6/dist-packages (from spacy>=2.2.2->en_core_web_lg==2.2.5) (0.4.1)\n",
            "Requirement already satisfied: wasabi<1.1.0,>=0.4.0 in /usr/local/lib/python3.6/dist-packages (from spacy>=2.2.2->en_core_web_lg==2.2.5) (0.8.0)\n",
            "Requirement already satisfied: catalogue<1.1.0,>=0.0.7 in /usr/local/lib/python3.6/dist-packages (from spacy>=2.2.2->en_core_web_lg==2.2.5) (1.0.0)\n",
            "Requirement already satisfied: thinc==7.4.0 in /usr/local/lib/python3.6/dist-packages (from spacy>=2.2.2->en_core_web_lg==2.2.5) (7.4.0)\n",
            "Requirement already satisfied: tqdm<5.0.0,>=4.38.0 in /usr/local/lib/python3.6/dist-packages (from spacy>=2.2.2->en_core_web_lg==2.2.5) (4.41.1)\n",
            "Requirement already satisfied: requests<3.0.0,>=2.13.0 in /usr/local/lib/python3.6/dist-packages (from spacy>=2.2.2->en_core_web_lg==2.2.5) (2.23.0)\n",
            "Requirement already satisfied: murmurhash<1.1.0,>=0.28.0 in /usr/local/lib/python3.6/dist-packages (from spacy>=2.2.2->en_core_web_lg==2.2.5) (1.0.2)\n",
            "Requirement already satisfied: importlib-metadata>=0.20; python_version < \"3.8\" in /usr/local/lib/python3.6/dist-packages (from catalogue<1.1.0,>=0.0.7->spacy>=2.2.2->en_core_web_lg==2.2.5) (2.0.0)\n",
            "Requirement already satisfied: urllib3!=1.25.0,!=1.25.1,<1.26,>=1.21.1 in /usr/local/lib/python3.6/dist-packages (from requests<3.0.0,>=2.13.0->spacy>=2.2.2->en_core_web_lg==2.2.5) (1.24.3)\n",
            "Requirement already satisfied: idna<3,>=2.5 in /usr/local/lib/python3.6/dist-packages (from requests<3.0.0,>=2.13.0->spacy>=2.2.2->en_core_web_lg==2.2.5) (2.10)\n",
            "Requirement already satisfied: chardet<4,>=3.0.2 in /usr/local/lib/python3.6/dist-packages (from requests<3.0.0,>=2.13.0->spacy>=2.2.2->en_core_web_lg==2.2.5) (3.0.4)\n",
            "Requirement already satisfied: certifi>=2017.4.17 in /usr/local/lib/python3.6/dist-packages (from requests<3.0.0,>=2.13.0->spacy>=2.2.2->en_core_web_lg==2.2.5) (2020.6.20)\n",
            "Requirement already satisfied: zipp>=0.5 in /usr/local/lib/python3.6/dist-packages (from importlib-metadata>=0.20; python_version < \"3.8\"->catalogue<1.1.0,>=0.0.7->spacy>=2.2.2->en_core_web_lg==2.2.5) (3.3.1)\n",
            "Building wheels for collected packages: en-core-web-lg\n",
            "  Building wheel for en-core-web-lg (setup.py) ... \u001b[?25l\u001b[?25hdone\n",
            "  Created wheel for en-core-web-lg: filename=en_core_web_lg-2.2.5-cp36-none-any.whl size=829180944 sha256=1c6ae58403fef4c719eb4e88676608d9e051e7161d100b7f11b484e457c24050\n",
            "  Stored in directory: /tmp/pip-ephem-wheel-cache-7_g46ekg/wheels/2a/c1/a6/fc7a877b1efca9bc6a089d6f506f16d3868408f9ff89f8dbfc\n",
            "Successfully built en-core-web-lg\n",
            "Installing collected packages: en-core-web-lg\n",
            "Successfully installed en-core-web-lg-2.2.5\n",
            "\u001b[38;5;2m✔ Download and installation successful\u001b[0m\n",
            "You can now load the model via spacy.load('en_core_web_lg')\n"
          ],
          "name": "stdout"
        }
      ]
    },
    {
      "cell_type": "code",
      "metadata": {
        "id": "fLIy_BWLUopP",
        "outputId": "c8c611b7-b912-4a89-8dd4-485fe97abe4e",
        "colab": {
          "base_uri": "https://localhost:8080/"
        }
      },
      "source": [
        "!python -m spacy download en\n",
        "\n",
        "!python -m spacy download en_core_web_lg"
      ],
      "execution_count": null,
      "outputs": [
        {
          "output_type": "stream",
          "text": [
            "Requirement already satisfied: en_core_web_sm==2.2.5 from https://github.com/explosion/spacy-models/releases/download/en_core_web_sm-2.2.5/en_core_web_sm-2.2.5.tar.gz#egg=en_core_web_sm==2.2.5 in /usr/local/lib/python3.6/dist-packages (2.2.5)\n",
            "Requirement already satisfied: spacy>=2.2.2 in /usr/local/lib/python3.6/dist-packages (from en_core_web_sm==2.2.5) (2.2.4)\n",
            "Requirement already satisfied: numpy>=1.15.0 in /usr/local/lib/python3.6/dist-packages (from spacy>=2.2.2->en_core_web_sm==2.2.5) (1.18.5)\n",
            "Requirement already satisfied: srsly<1.1.0,>=1.0.2 in /usr/local/lib/python3.6/dist-packages (from spacy>=2.2.2->en_core_web_sm==2.2.5) (1.0.2)\n",
            "Requirement already satisfied: catalogue<1.1.0,>=0.0.7 in /usr/local/lib/python3.6/dist-packages (from spacy>=2.2.2->en_core_web_sm==2.2.5) (1.0.0)\n",
            "Requirement already satisfied: setuptools in /usr/local/lib/python3.6/dist-packages (from spacy>=2.2.2->en_core_web_sm==2.2.5) (50.3.2)\n",
            "Requirement already satisfied: thinc==7.4.0 in /usr/local/lib/python3.6/dist-packages (from spacy>=2.2.2->en_core_web_sm==2.2.5) (7.4.0)\n",
            "Requirement already satisfied: blis<0.5.0,>=0.4.0 in /usr/local/lib/python3.6/dist-packages (from spacy>=2.2.2->en_core_web_sm==2.2.5) (0.4.1)\n",
            "Requirement already satisfied: preshed<3.1.0,>=3.0.2 in /usr/local/lib/python3.6/dist-packages (from spacy>=2.2.2->en_core_web_sm==2.2.5) (3.0.2)\n",
            "Requirement already satisfied: plac<1.2.0,>=0.9.6 in /usr/local/lib/python3.6/dist-packages (from spacy>=2.2.2->en_core_web_sm==2.2.5) (1.1.3)\n",
            "Requirement already satisfied: wasabi<1.1.0,>=0.4.0 in /usr/local/lib/python3.6/dist-packages (from spacy>=2.2.2->en_core_web_sm==2.2.5) (0.8.0)\n",
            "Requirement already satisfied: requests<3.0.0,>=2.13.0 in /usr/local/lib/python3.6/dist-packages (from spacy>=2.2.2->en_core_web_sm==2.2.5) (2.23.0)\n",
            "Requirement already satisfied: murmurhash<1.1.0,>=0.28.0 in /usr/local/lib/python3.6/dist-packages (from spacy>=2.2.2->en_core_web_sm==2.2.5) (1.0.2)\n",
            "Requirement already satisfied: cymem<2.1.0,>=2.0.2 in /usr/local/lib/python3.6/dist-packages (from spacy>=2.2.2->en_core_web_sm==2.2.5) (2.0.3)\n",
            "Requirement already satisfied: tqdm<5.0.0,>=4.38.0 in /usr/local/lib/python3.6/dist-packages (from spacy>=2.2.2->en_core_web_sm==2.2.5) (4.41.1)\n",
            "Requirement already satisfied: importlib-metadata>=0.20; python_version < \"3.8\" in /usr/local/lib/python3.6/dist-packages (from catalogue<1.1.0,>=0.0.7->spacy>=2.2.2->en_core_web_sm==2.2.5) (2.0.0)\n",
            "Requirement already satisfied: chardet<4,>=3.0.2 in /usr/local/lib/python3.6/dist-packages (from requests<3.0.0,>=2.13.0->spacy>=2.2.2->en_core_web_sm==2.2.5) (3.0.4)\n",
            "Requirement already satisfied: certifi>=2017.4.17 in /usr/local/lib/python3.6/dist-packages (from requests<3.0.0,>=2.13.0->spacy>=2.2.2->en_core_web_sm==2.2.5) (2020.6.20)\n",
            "Requirement already satisfied: idna<3,>=2.5 in /usr/local/lib/python3.6/dist-packages (from requests<3.0.0,>=2.13.0->spacy>=2.2.2->en_core_web_sm==2.2.5) (2.10)\n",
            "Requirement already satisfied: urllib3!=1.25.0,!=1.25.1,<1.26,>=1.21.1 in /usr/local/lib/python3.6/dist-packages (from requests<3.0.0,>=2.13.0->spacy>=2.2.2->en_core_web_sm==2.2.5) (1.24.3)\n",
            "Requirement already satisfied: zipp>=0.5 in /usr/local/lib/python3.6/dist-packages (from importlib-metadata>=0.20; python_version < \"3.8\"->catalogue<1.1.0,>=0.0.7->spacy>=2.2.2->en_core_web_sm==2.2.5) (3.3.1)\n",
            "\u001b[38;5;2m✔ Download and installation successful\u001b[0m\n",
            "You can now load the model via spacy.load('en_core_web_sm')\n",
            "\u001b[38;5;2m✔ Linking successful\u001b[0m\n",
            "/usr/local/lib/python3.6/dist-packages/en_core_web_sm -->\n",
            "/usr/local/lib/python3.6/dist-packages/spacy/data/en\n",
            "You can now load the model via spacy.load('en')\n",
            "Requirement already satisfied: en_core_web_lg==2.2.5 from https://github.com/explosion/spacy-models/releases/download/en_core_web_lg-2.2.5/en_core_web_lg-2.2.5.tar.gz#egg=en_core_web_lg==2.2.5 in /usr/local/lib/python3.6/dist-packages (2.2.5)\n",
            "Requirement already satisfied: spacy>=2.2.2 in /usr/local/lib/python3.6/dist-packages (from en_core_web_lg==2.2.5) (2.2.4)\n",
            "Requirement already satisfied: catalogue<1.1.0,>=0.0.7 in /usr/local/lib/python3.6/dist-packages (from spacy>=2.2.2->en_core_web_lg==2.2.5) (1.0.0)\n",
            "Requirement already satisfied: plac<1.2.0,>=0.9.6 in /usr/local/lib/python3.6/dist-packages (from spacy>=2.2.2->en_core_web_lg==2.2.5) (1.1.3)\n",
            "Requirement already satisfied: cymem<2.1.0,>=2.0.2 in /usr/local/lib/python3.6/dist-packages (from spacy>=2.2.2->en_core_web_lg==2.2.5) (2.0.3)\n",
            "Requirement already satisfied: requests<3.0.0,>=2.13.0 in /usr/local/lib/python3.6/dist-packages (from spacy>=2.2.2->en_core_web_lg==2.2.5) (2.23.0)\n",
            "Requirement already satisfied: blis<0.5.0,>=0.4.0 in /usr/local/lib/python3.6/dist-packages (from spacy>=2.2.2->en_core_web_lg==2.2.5) (0.4.1)\n",
            "Requirement already satisfied: setuptools in /usr/local/lib/python3.6/dist-packages (from spacy>=2.2.2->en_core_web_lg==2.2.5) (50.3.2)\n",
            "Requirement already satisfied: srsly<1.1.0,>=1.0.2 in /usr/local/lib/python3.6/dist-packages (from spacy>=2.2.2->en_core_web_lg==2.2.5) (1.0.2)\n",
            "Requirement already satisfied: wasabi<1.1.0,>=0.4.0 in /usr/local/lib/python3.6/dist-packages (from spacy>=2.2.2->en_core_web_lg==2.2.5) (0.8.0)\n",
            "Requirement already satisfied: tqdm<5.0.0,>=4.38.0 in /usr/local/lib/python3.6/dist-packages (from spacy>=2.2.2->en_core_web_lg==2.2.5) (4.41.1)\n",
            "Requirement already satisfied: numpy>=1.15.0 in /usr/local/lib/python3.6/dist-packages (from spacy>=2.2.2->en_core_web_lg==2.2.5) (1.18.5)\n",
            "Requirement already satisfied: thinc==7.4.0 in /usr/local/lib/python3.6/dist-packages (from spacy>=2.2.2->en_core_web_lg==2.2.5) (7.4.0)\n",
            "Requirement already satisfied: preshed<3.1.0,>=3.0.2 in /usr/local/lib/python3.6/dist-packages (from spacy>=2.2.2->en_core_web_lg==2.2.5) (3.0.2)\n",
            "Requirement already satisfied: murmurhash<1.1.0,>=0.28.0 in /usr/local/lib/python3.6/dist-packages (from spacy>=2.2.2->en_core_web_lg==2.2.5) (1.0.2)\n",
            "Requirement already satisfied: importlib-metadata>=0.20; python_version < \"3.8\" in /usr/local/lib/python3.6/dist-packages (from catalogue<1.1.0,>=0.0.7->spacy>=2.2.2->en_core_web_lg==2.2.5) (2.0.0)\n",
            "Requirement already satisfied: chardet<4,>=3.0.2 in /usr/local/lib/python3.6/dist-packages (from requests<3.0.0,>=2.13.0->spacy>=2.2.2->en_core_web_lg==2.2.5) (3.0.4)\n",
            "Requirement already satisfied: certifi>=2017.4.17 in /usr/local/lib/python3.6/dist-packages (from requests<3.0.0,>=2.13.0->spacy>=2.2.2->en_core_web_lg==2.2.5) (2020.6.20)\n",
            "Requirement already satisfied: idna<3,>=2.5 in /usr/local/lib/python3.6/dist-packages (from requests<3.0.0,>=2.13.0->spacy>=2.2.2->en_core_web_lg==2.2.5) (2.10)\n",
            "Requirement already satisfied: urllib3!=1.25.0,!=1.25.1,<1.26,>=1.21.1 in /usr/local/lib/python3.6/dist-packages (from requests<3.0.0,>=2.13.0->spacy>=2.2.2->en_core_web_lg==2.2.5) (1.24.3)\n",
            "Requirement already satisfied: zipp>=0.5 in /usr/local/lib/python3.6/dist-packages (from importlib-metadata>=0.20; python_version < \"3.8\"->catalogue<1.1.0,>=0.0.7->spacy>=2.2.2->en_core_web_lg==2.2.5) (3.3.1)\n",
            "\u001b[38;5;2m✔ Download and installation successful\u001b[0m\n",
            "You can now load the model via spacy.load('en_core_web_lg')\n"
          ],
          "name": "stdout"
        }
      ]
    },
    {
      "cell_type": "code",
      "metadata": {
        "id": "JzKyDV_QMQig",
        "outputId": "ea1460cd-5fe0-438d-8346-961c4d5f7d96",
        "colab": {
          "base_uri": "https://localhost:8080/"
        }
      },
      "source": [
        "import spacy\n",
        "import spacy.cli\n",
        "spacy.cli.download(\"en_core_web_lg\")\n",
        "import en_core_web_lg\n",
        "nlp = en_core_web_lg.load()\n",
        "from newsapi import NewsApiClient\n",
        "\n",
        "nlp_eng = spacy.load('en_core_web_lg')\n",
        "print(\"done\")\n",
        "newsapi = NewsApiClient (api_key='76e8da8772144cbb937f00c91323d7ab')\n",
        "\n",
        "\n"
      ],
      "execution_count": null,
      "outputs": [
        {
          "output_type": "stream",
          "text": [
            "\u001b[38;5;2m✔ Download and installation successful\u001b[0m\n",
            "You can now load the model via spacy.load('en_core_web_lg')\n",
            "done\n"
          ],
          "name": "stdout"
        }
      ]
    },
    {
      "cell_type": "code",
      "metadata": {
        "id": "CyvR_aw2aspj",
        "outputId": "b87ef1ec-bcc5-42cd-b012-8ce8d9198036",
        "colab": {
          "base_uri": "https://localhost:8080/"
        }
      },
      "source": [
        "def searchArticle(page):\n",
        "  temp = newsapi.get_everything(q='coronavirus', language='en', from_param='2020-10-11', to='2020-11-01', sort_by='relevancy', page=page)\n",
        "  return temp\n",
        "  \n",
        "  \n",
        "articles = list(map(searchArticle, range(1,6)))\n",
        "\n",
        "print(articles)"
      ],
      "execution_count": null,
      "outputs": [
        {
          "output_type": "stream",
          "text": [
            "[{'status': 'ok', 'totalResults': 120923, 'articles': [{'source': {'id': None, 'name': 'Lifehacker.com'}, 'author': 'Beth Skwarecki on Vitals, shared by Beth Skwarecki to Lifehacker', 'title': \"Sorry, Mouthwash Isn't a Coronavirus Cure\", 'description': 'Mouthwash is designed to kill germs in your mouth. It is, I’d have to say, pretty good at its job. And yet: we do not seriously trust mouthwash to prevent the transmission of common colds, strep infections, or any other mouth-germ-y illness. We shouldn’t get …', 'url': 'https://vitals.lifehacker.com/sorry-mouthwash-isnt-a-coronavirus-cure-1845440818', 'urlToImage': 'https://i.kinja-img.com/gawker-media/image/upload/c_fill,f_auto,fl_progressive,g_center,h_675,pg_1,q_80,w_1200/wkaxtbskwr6rpgdckjzq.jpg', 'publishedAt': '2020-10-21T19:45:00Z', 'content': 'Mouthwash is designed to kill germs in your mouth. It is, Id have to say, pretty good at its job. And yet: we do not seriously trust mouthwash to prevent the transmission of common colds, strep infec… [+4209 chars]'}, {'source': {'id': None, 'name': 'Lifehacker.com'}, 'author': 'Elizabeth Yuko', 'title': \"Check an Airline's Coronavirus Policies Before Booking\", 'description': 'Navigating air travel during the COVID-19 pandemic has been tricky. First and foremost, you want to make sure that you’re as safe as possible. On top of that, there are fewer routes and flights available, travel restrictions, and other guidelines that seem to…', 'url': 'https://lifehacker.com/check-an-airlines-coronavirus-policies-before-booking-1845432440', 'urlToImage': 'https://i.kinja-img.com/gawker-media/image/upload/c_fill,f_auto,fl_progressive,g_center,h_675,pg_1,q_80,w_1200/dyptlcdjxmulrrv7jpwd.jpg', 'publishedAt': '2020-10-21T16:00:00Z', 'content': 'Navigating air travel during the COVID-19 pandemic has been tricky. First and foremost, you want to make sure that youre as safe as possible. On top of that, there are fewer routes and flights availa… [+3231 chars]'}, {'source': {'id': 'the-verge', 'name': 'The Verge'}, 'author': 'Kim Lyons', 'title': 'Twitter flags, limits sharing on Trump tweet about being “immune” to coronavirus', 'description': 'Twitter disabled sharing options on a tweet from President Trump on Sunday, and labeled it for violating its rules against spreading coronavirus misinformation. The president’s assertion he is “immune” conflicts with the CDC’s guidance on coronavirus reinfect…', 'url': 'https://www.theverge.com/2020/10/11/21511682/twitter-disables-sharing-trump-tweet-coronavirus-misinformation', 'urlToImage': 'https://cdn.vox-cdn.com/thumbor/1zez70uv4JdlHC48r4RTKuJo7kw=/0x146:2040x1214/fit-in/1200x630/cdn.vox-cdn.com/uploads/chorus_asset/file/20086270/acastro_200715_1777_twitter_0005.0.jpg', 'publishedAt': '2020-10-11T19:11:34Z', 'content': 'The tweet violated the platforms rules against sharing coronavirus misinformation\\r\\nIllustration by Alex Castro / The Verge\\r\\nTwitter disabled some sharing options on a tweet from President Trump on Su… [+2699 chars]'}, {'source': {'id': None, 'name': 'New York Times'}, 'author': 'Michael Kolomatsky', 'title': 'Coronavirus and Home Design', 'description': 'A recent survey of architects reveals that clients are looking for ways to improve the time they spend at home.', 'url': 'https://www.nytimes.com/2020/10/22/realestate/pandemic-shaping-home-design.html', 'urlToImage': 'https://static01.nyt.com/images/2020/10/22/realestate/22calculator-1602800205657/22calculator-1602800205657-facebookJumbo-v4.png', 'publishedAt': '2020-10-22T13:00:08Z', 'content': 'The coronavirus pandemic is already shaping home design trends, with special-function rooms and products that serve needs particular to the pandemic rising in popularity, according to a recent survey… [+992 chars]'}, {'source': {'id': None, 'name': 'New York Times'}, 'author': 'Jonathan Wolfe', 'title': 'Coronavirus Briefing: What Happened Today', 'description': 'What the near future may hold', 'url': 'https://www.nytimes.com/2020/10/12/us/coronavirus-today.html', 'urlToImage': 'https://static01.nyt.com/images/2020/03/03/world/coronavirus-map-promo/coronavirus-map-promo-facebookJumbo-v1002.png', 'publishedAt': '2020-10-12T22:12:24Z', 'content': 'Many leaders most notably President Trump have described the arrival of a coronavirus vaccine as an off switch that will instantly normalize our lives. But experts are warning of a perplexing and fru… [+1562 chars]'}, {'source': {'id': None, 'name': 'New York Times'}, 'author': 'Jonathan Wolfe', 'title': 'Coronavirus Briefing: What Happened Today', 'description': 'Startling fall surges in the United States and Europe could set the stage for wintertime peaks.', 'url': 'https://www.nytimes.com/2020/10/14/us/coronavirus-today.html', 'urlToImage': 'https://static01.nyt.com/images/2020/03/03/world/coronavirus-map-promo/coronavirus-map-promo-facebookJumbo-v1002.png', 'publishedAt': '2020-10-14T22:53:33Z', 'content': 'In Europe, where a second wave is engulfing countries, the situation is even more troubling. The continent had been held up against the U.S. as an example of effective virus control, but now Spain, F… [+1215 chars]'}, {'source': {'id': None, 'name': 'New York Times'}, 'author': 'Jonathan Wolfe and Dani Blum', 'title': 'Coronavirus Briefing: What Happened Today', 'description': 'Congress tried to shield Covid-19 patients from unexpected medical charges. So why are people still receiving huge bills?', 'url': 'https://www.nytimes.com/2020/10/13/us/coronavirus-today.html', 'urlToImage': 'https://static01.nyt.com/images/2020/03/03/world/coronavirus-map-promo/coronavirus-map-promo-facebookJumbo-v1002.png', 'publishedAt': '2020-10-13T21:37:51Z', 'content': 'Apoorva Mandavilli, who covers science and global health for The Times, told us that these antibodies distilled from the blood of patients who have recovered from the coronavirus were most likely to … [+1379 chars]'}, {'source': {'id': None, 'name': 'New York Times'}, 'author': 'Jonathan Wolfe', 'title': 'Coronavirus Briefing: What Happened Today', 'description': 'Precaution exhaustion could create dire conditions in the fall.', 'url': 'https://www.nytimes.com/2020/10/19/us/coronavirus-today.html', 'urlToImage': 'https://static01.nyt.com/images/2020/03/03/world/coronavirus-map-promo/coronavirus-map-promo-facebookJumbo-v1002.png', 'publishedAt': '2020-10-19T22:02:04Z', 'content': 'The Canyons School District, in an affluent suburb of Salt Lake City, has been deeply divided about the virus. Some parents urged the district to trust public health experts, who warned that the area… [+1539 chars]'}, {'source': {'id': None, 'name': 'New York Times'}, 'author': 'Jonathan Wolfe', 'title': 'Coronavirus Briefing: What Happened Today', 'description': 'Alaska is emerging as a possible test case for what winter may be like in the U.S.', 'url': 'https://www.nytimes.com/2020/10/21/us/coronavirus-today.html', 'urlToImage': 'https://static01.nyt.com/images/2020/09/29/us/coronavirus-us-cases-promo-1601396060818/coronavirus-us-cases-promo-1601396060818-facebookJumbo-v95.png', 'publishedAt': '2020-10-21T22:16:08Z', 'content': 'And yet, reporting by our colleagues Sheila Kaplan, Sharon LaFraniere, Noah Weiland and Maggie Haberman may offer jittery Americans some solace. They uncovered a few victories for the agency in stand… [+3110 chars]'}, {'source': {'id': None, 'name': 'New York Times'}, 'author': 'Jonathan Wolfe', 'title': 'Coronavirus Briefing: What Happened Today', 'description': 'Hospitals across the U.S. and Europe are reaching capacity at a rapid pace.', 'url': 'https://www.nytimes.com/2020/10/23/us/coronavirus-today.html', 'urlToImage': 'https://static01.nyt.com/images/2020/03/03/world/coronavirus-map-promo/coronavirus-map-promo-facebookJumbo-v1002.png', 'publishedAt': '2020-10-23T21:26:05Z', 'content': 'Once Americans begin taking vaccines for the coronavirus, government researchers will face a monumental task: monitoring the health of millions of Americans to look for potential problems and side ef… [+2562 chars]'}, {'source': {'id': None, 'name': 'New York Times'}, 'author': 'Jonathan Wolfe and Amelia Nierenberg', 'title': 'Coronavirus Briefing: What Happened Today', 'description': 'The White House is embracing a dubious route to “herd immunity,” a strategy rejected by most health experts.', 'url': 'https://www.nytimes.com/2020/10/15/us/coronavirus-today.html', 'urlToImage': 'https://static01.nyt.com/images/2020/10/15/us/oakImage-1602773913985/oakImage-1602773913985-facebookJumbo.png', 'publishedAt': '2020-10-15T23:43:25Z', 'content': 'Like way, way down.\\r\\nAcross American colleges and universities, freshman enrollment has dropped more than 16 percent from last year, the National Student Clearinghouse Research Center reported today.… [+1262 chars]'}, {'source': {'id': None, 'name': 'New York Times'}, 'author': 'Jonathan Wolfe', 'title': 'Coronavirus Briefing: What Happened Today', 'description': 'France and Germany reimposed nationwide lockdowns as cases surge.', 'url': 'https://www.nytimes.com/2020/10/28/us/coronavirus-today.html', 'urlToImage': 'https://static01.nyt.com/images/2020/10/28/us/oakImage-1603896168955/oakImage-1603896168955-facebookJumbo-v2.png', 'publishedAt': '2020-10-28T21:32:20Z', 'content': 'But as hospitals fill at an alarming rate, doctors and medical experts say the closures are necessary. In Germany, the number of patients in hospitals has doubled in the past 10 days, and in France, … [+1303 chars]'}, {'source': {'id': None, 'name': 'New York Times'}, 'author': 'Sheryl Gay Stolberg, Maggie Haberman and Noah Weiland', 'title': 'Trump Attacks Fauci Over Coronavirus', 'description': 'With two weeks remaining in his re-election campaign, President Trump made the coronavirus his message and Dr. Anthony S. Fauci his foil, dismissing scientific advisers as “these idiots.”', 'url': 'https://www.nytimes.com/2020/10/19/us/politics/trump-fauci-covid.html', 'urlToImage': 'https://static01.nyt.com/images/2020/10/19/us/politics/19dc-virus-trumpfauci-1/merlin_177460302_5af6f315-42fa-48b7-849e-9a92f3fda5fd-facebookJumbo.jpg', 'publishedAt': '2020-10-20T00:33:24Z', 'content': 'He added, People are tired of hearing Fauci and these idiots, all these idiots who got it wrong.\\r\\nDr. Faucis cautionary words are borne out by the numbers. More than 70,450 new coronavirus cases were… [+1691 chars]'}, {'source': {'id': None, 'name': 'New York Times'}, 'author': 'Jonathan Wolfe', 'title': 'Coronavirus Briefing: What Happened Today', 'description': 'The U.S. recorded more than 500,000 new cases and counted its nine millionth case.', 'url': 'https://www.nytimes.com/2020/10/30/us/coronavirus-today.html', 'urlToImage': 'https://static01.nyt.com/images/2020/10/30/multimedia/30coronavirus-nl-cases/30coronavirus-nl-cases-facebookJumbo.png', 'publishedAt': '2020-10-30T21:20:01Z', 'content': 'Unlike in the spring, when the virus was deadliest where Democrats live, the new surge includes Republican-dominated sections of the Great Plains and the Mountain West. And in the battleground states… [+2726 chars]'}, {'source': {'id': None, 'name': 'New York Times'}, 'author': 'Jill Cowan', 'title': 'Coronavirus in California: An Update on Cases', 'description': 'Tuesday: Catch up on the Lakers’ 17th championship win. Also: An uproar over fake “official” ballot boxes distributed by Republicans.', 'url': 'https://www.nytimes.com/2020/10/13/us/ca-coronavirus-cases.html', 'urlToImage': 'https://static01.nyt.com/images/2020/10/13/us/13lakers1catoday/merlin_178394292_77281211-c7ca-4f4f-9944-6497c012f000-facebookJumbo.jpg', 'publishedAt': '2020-10-13T12:42:09Z', 'content': 'This is the Lakers first title with Jeanie Buss, the daughter of the teams longtime owner Jerry Buss, in charge. Rob Pelinka, the Lakers general manager, served as the longtime agent for his close fr… [+1801 chars]'}, {'source': {'id': None, 'name': 'New York Times'}, 'author': 'Sarah Bahr', 'title': 'The Conners Return to Confront the Coronavirus', 'description': 'This ABC sitcom has dealt with real-world challenges since its earliest days as “Roseanne.” In its new season, those include the pandemic and its fallout.', 'url': 'https://www.nytimes.com/2020/10/18/arts/television/the-conners-season-3.html', 'urlToImage': 'https://static01.nyt.com/images/2020/10/19/arts/19conners-2/19conners-2-facebookJumbo.jpg', 'publishedAt': '2020-10-18T15:55:57Z', 'content': 'Gilbert said the series will not dwell on the darkest parts of the pandemic People get that on the news every day, she said but that the show, which is set in the current moment, will reflect real-wo… [+1083 chars]'}, {'source': {'id': None, 'name': 'New York Times'}, 'author': 'Kim Velsey', 'title': 'First Coronavirus Hit, Then They Got Bedbugs', 'description': 'Three roommates support each other through the pandemic and fumigation, and luck into a bigger apartment for the same price.', 'url': 'https://www.nytimes.com/2020/10/26/realestate/first-coronavirus-hit-then-they-got-bedbugs.html', 'urlToImage': 'https://static01.nyt.com/images/2020/10/26/realestate/26renters2/26renters2-facebookJumbo.jpg', 'publishedAt': '2020-10-26T09:00:24Z', 'content': 'By June, things were looking up for Posey Bartol and Theresa Alexander, two actors who lost their jobs and their third roommate at the start of the pandemic. They had finally found someone to take ov… [+1137 chars]'}, {'source': {'id': None, 'name': 'Gizmodo.com'}, 'author': 'Tom McKay', 'title': 'YouTube Now Says It Will Remove Videos Lying About Coronavirus Vaccines', 'description': 'YouTube announced on Wednesday that it will now be extending current rules about lies, propaganda, and conspiracy theories about the coronavirus pandemic to include misinformation about coronavirus vaccines.Read more...', 'url': 'https://gizmodo.com/youtube-now-says-it-will-remove-videos-lying-about-coro-1845374402', 'urlToImage': 'https://i.kinja-img.com/gawker-media/image/upload/c_fill,f_auto,fl_progressive,g_center,h_675,pg_1,q_80,w_1200/bz6mxcw5f69la7ccl1ss.jpg', 'publishedAt': '2020-10-14T23:55:00Z', 'content': 'YouTube announced on Wednesday that it will now be extending current rules about lies, propaganda, and conspiracy theories about the coronavirus pandemic to include misinformation about coronavirus v… [+6014 chars]'}, {'source': {'id': None, 'name': 'New York Times'}, 'author': 'Astead W. Herndon and Annie Karni', 'title': 'Trump Dismisses Virus Coverage and Biden Dismisses Virus Leadership: This Week in the 2020 Race', 'description': 'President Trump has complained this week of what he calls a media obsession with the coronavirus pandemic. The message from Democrats has been united — all coronavirus, all the time.', 'url': 'https://www.nytimes.com/2020/10/31/us/politics/trump-dismisses-virus-coverage-and-biden-dismisses-virus-leadership-this-week-in-the-2020-race.html', 'urlToImage': 'https://static01.nyt.com/images/2020/10/31/us/politics/31MOMENTS1/31MOMENTS1-facebookJumbo.jpg', 'publishedAt': '2020-10-31T09:00:03Z', 'content': 'A presidential election that began in earnest nearly two years ago has finally arrived. Polling shows the campaign is ending as it began: as a referendum on President Trump. Whats new is that voters … [+887 chars]'}, {'source': {'id': 'the-verge', 'name': 'The Verge'}, 'author': 'Nicole Wetsman', 'title': 'When senior citizens are the early adopters', 'description': 'Many senior living facilities use location tracking devices to monitor residents. During the coronavirus pandemic, they started to use them for COVID-19 contact tracing.', 'url': 'https://www.theverge.com/21509117/contact-tracing-apps-digital-senior-nursing-homes', 'urlToImage': 'https://cdn.vox-cdn.com/thumbor/XwA8TGk6uX9d4nrZ-ZXJAFUu380=/0x6:2040x1074/fit-in/1200x630/cdn.vox-cdn.com/uploads/chorus_asset/file/21959622/acastro_201014_4240_00012.0.jpg', 'publishedAt': '2020-10-15T13:00:00Z', 'content': 'Illustration by Alex Castro / The Verge\\n\\n\\n Digital contact tracing wasn’t up for debate in senior living facilities Steve Kasch’s mom, Julia, was always worried about losing her keys. “She wasn’t eve… [+21305 chars]'}]}, {'status': 'ok', 'totalResults': 120923, 'articles': [{'source': {'id': None, 'name': 'New York Times'}, 'author': 'The New York Times', 'title': 'New Virus Cases Trend Upward in Most of the U.S.', 'description': 'As the country surpassed eight million total cases of the coronavirus, many states are seeing higher coronavirus caseloads than they did earlier in the pandemic.', 'url': 'https://www.nytimes.com/live/2020/10/16/world/covid-coronavirus', 'urlToImage': 'https://static01.nyt.com/images/2020/10/16/world/16virus-briefing-states/16virus-briefing-states-facebookJumbo.jpg', 'publishedAt': '2020-10-16T09:55:39Z', 'content': 'LiveUpdated\\xa0Oct. 16, 2020, 6:05 a.m. ET\\r\\nOct. 16, 2020, 6:05 a.m. ET\\r\\nAs the country surpassed eight million total cases of the coronavirus, many states are seeing higher coronavirus caseloads than t… [+13869 chars]'}, {'source': {'id': None, 'name': 'New York Times'}, 'author': 'Jill Cowan', 'title': 'Coronavirus in California: New Rules For Gatherings', 'description': 'Monday: As we head toward the holiday season, the state has lifted its official ban on private parties. But there are still restrictions.', 'url': 'https://www.nytimes.com/2020/10/19/us/california-gatherings-coronavirus.html', 'urlToImage': 'https://static01.nyt.com/images/2020/10/19/us/19halloweencatoday/merlin_177596886_99366e7a-c7f5-4238-9de7-d6c5b303c4bf-facebookJumbo.jpg', 'publishedAt': '2020-10-19T12:51:55Z', 'content': 'So we can have food and drinks?\\r\\nYou can have food and drinks, but nix the buffet line and punch bowl. The guidelines urge you to use single-serve containers as much as possible. And if someone has t… [+1381 chars]'}, {'source': {'id': None, 'name': 'New York Times'}, 'author': 'Sanya Dosani, Alexander Stockton and Adam Westbrook', 'title': 'How America Helped Defeat the Coronavirus*', 'description': 'Just not in the U.S.', 'url': 'https://www.nytimes.com/video/opinion/100000007352441/us-coronavirus-response-asia.html', 'urlToImage': 'https://static01.nyt.com/images/2020/09/21/autossell/op-covid-asia-thumb/op-covid-asia-thumb-facebookJumbo.png?video-overlay', 'publishedAt': '2020-10-28T09:22:29Z', 'content': 'I dont know about you, but I need a feel-good story right now. In the midst of Americas botched pandemic response, Ive been searching for something to feel proud of. And in these caves, I found a gre… [+9356 chars]'}, {'source': {'id': None, 'name': 'New York Times'}, 'author': 'The New York Times', 'title': 'Several Pence Aides Test Positive for Coronavirus', 'description': 'Six states broke records as the virus surged at an alarming pace. A single case disrupts life in Kashgar, in China’s West.', 'url': 'https://www.nytimes.com/live/2020/10/25/world/covid-19-coronavirus-updates', 'urlToImage': 'https://static01.nyt.com/images/2020/10/24/us/24virus-briefing-marc/merlin_162512289_8741e55d-c20f-4457-8f3d-56c1144cb593-facebookJumbo.jpg', 'publishedAt': '2020-10-25T13:41:12Z', 'content': 'LiveUpdated\\xa0Oct. 25, 2020, 9:47 a.m. ET\\r\\nOct. 25, 2020, 9:47 a.m. ET\\r\\nSix states broke records as the virus surged at an alarming pace. A single case disrupts life in Kashgar, in Chinas West.\\r\\nHeres … [+22637 chars]'}, {'source': {'id': 'bbc-news', 'name': 'BBC News'}, 'author': 'https://www.facebook.com/bbcnews', 'title': \"Coronavirus: Argentina's confirmed cases surpass one million\", 'description': 'The South American nation becomes the fifth country in the world to reach the grim milestone.', 'url': 'https://www.bbc.co.uk/news/world-latin-america-54609384', 'urlToImage': 'https://ichef.bbci.co.uk/news/1024/branded_news/1354B/production/_114997197_hi063904237.jpg', 'publishedAt': '2020-10-20T02:07:03Z', 'content': 'image captionThe outbreak has intensified in the past few months in Argentina - especially in the Buenos Aires province\\r\\nArgentina has become the fifth country in the world to record one million conf… [+877 chars]'}, {'source': {'id': None, 'name': 'New York Times'}, 'author': 'Katherine J. Wu', 'title': 'Why False Positives Matter, Too', 'description': 'False negatives are not the only troublesome outcome of a faulty coronavirus test.', 'url': 'https://www.nytimes.com/2020/10/25/health/coronavirus-testing-false-positive.html', 'urlToImage': 'https://static01.nyt.com/images/2020/10/24/lens/24virus-false-positives-photo/24virus-false-positives-photo-facebookJumbo.jpg', 'publishedAt': '2020-10-25T09:00:15Z', 'content': 'The ever-increasing availability of virtual platforms might make that transition easy for some, Dr. Mazer said. But for people whose work can only be done in person, or who lack a financial buffer, t… [+2237 chars]'}, {'source': {'id': 'cnn', 'name': 'CNN'}, 'author': None, 'title': \"Dr. Birx identifies what's behind recent spike in virus cases\", 'description': 'Dr. Deborah Birx, who is on the White House coronavirus task force, says that indoor gatherings as the weather gets colder are driving the recent increase in coronavirus cases.', 'url': 'https://www.cnn.com/videos/health/2020/10/23/birx-coronavirus-spread-indoor-gatherings-tsr-vpx.cnn', 'urlToImage': 'https://cdn.cnn.com/cnnnext/dam/assets/201023190309-deborah-birx-indoor-gatherings-super-tease.jpg', 'publishedAt': '2020-10-23T23:13:02Z', 'content': None}, {'source': {'id': 'bbc-news', 'name': 'BBC News'}, 'author': 'https://www.facebook.com/bbcnews', 'title': 'Coronavirus: Europe’s tough restrictions ‘absolutely necessary’', 'description': \"The World Health Organization's warning comes as major European cities go into red alert.\", 'url': 'https://www.bbc.co.uk/news/world-europe-54557549', 'urlToImage': 'https://ichef.bbci.co.uk/news/1024/branded_news/0944/production/_114927320_tv063836848.jpg', 'publishedAt': '2020-10-15T15:06:57Z', 'content': 'image captionMeasures against coronavirus are being ramped up in cities across Europe\\r\\nTough restrictions are \"absolutely necessary\" to save lives, the World Health Organization (WHO) has warned as E… [+4463 chars]'}, {'source': {'id': None, 'name': 'Gizmodo.com'}, 'author': 'Jody Serrano', 'title': 'This Is How Wuhan, China, Is Celebrating Halloween', 'description': 'The majority of people can probably recite one of the most basic lessons of the coronavirus pandemic: Don’t get too close to others, especially without a mask. Knowing that, it would be totally reasonable to think that the picture above is from a previous Hal…', 'url': 'https://gizmodo.com/this-is-how-wuhan-china-is-celebrating-halloween-1845532978', 'urlToImage': 'https://i.kinja-img.com/gawker-media/image/upload/c_fill,f_auto,fl_progressive,g_center,h_675,pg_1,q_80,w_1200/y44afiokynfn6vctsbpv.jpg', 'publishedAt': '2020-10-31T18:20:00Z', 'content': 'For those hoping to do traditional trick-or-treating, sorry to break it to you, but thats a high-risk activity, per the CDC. The agency recommends people avoid these activities to help prevent the sp… [+427 chars]'}, {'source': {'id': 'bbc-news', 'name': 'BBC News'}, 'author': 'https://www.facebook.com/bbcnews', 'title': 'Coronavirus: Clashes in Naples over tightening restrictions', 'description': 'Hundreds protested in the southern Italian city, some throwing firecrackers and smoke bombs.', 'url': 'https://www.bbc.co.uk/news/world-europe-54672685', 'urlToImage': 'https://ichef.bbci.co.uk/news/1024/branded_news/C9BD/production/_115054615_mediaitem115054613.jpg', 'publishedAt': '2020-10-24T07:55:09Z', 'content': 'image captionSmoke bombs and firecrackers were thrown\\r\\nProtesters in Naples opposed to stricter coronavirus measures clashed with police late into the night. \\r\\nSome threw smoke bombs and firecrackers… [+2245 chars]'}, {'source': {'id': None, 'name': 'Gizmodo.com'}, 'author': 'Ed Cara', 'title': 'Coronavirus Has Killed Nearly 10,000 Minks in Utah', 'description': 'Humans aren’t the only creatures at risk from dying of covid-19, it seems. In recent weeks, the state of Utah has been dealing with mass die-offs at mink farms that health officials believe are linked to the viral pandemic—outbreaks that likely began from con…', 'url': 'https://gizmodo.com/coronavirus-has-killed-nearly-10-000-minks-in-utah-1845346900', 'urlToImage': 'https://i.kinja-img.com/gawker-media/image/upload/c_fill,f_auto,fl_progressive,g_center,h_675,pg_1,q_80,w_1200/btxecprbp9qpnxkkha55.jpg', 'publishedAt': '2020-10-12T16:10:00Z', 'content': 'Humans arent the only creatures at risk from dying of covid-19, it seems. In recent weeks, the state of Utah has been dealing with mass die-offs at mink farms that health officials believe are linked… [+2192 chars]'}, {'source': {'id': 'bbc-news', 'name': 'BBC News'}, 'author': None, 'title': 'Coronavirus: Dutch drinkers party before new Covid rules kick in', 'description': 'Hospitality industry put under stricter coronavirus rules in the Netherlands.', 'url': 'https://www.bbc.co.uk/news/world-europe-54551673', 'urlToImage': None, 'publishedAt': '2020-10-15T11:32:15Z', 'content': None}, {'source': {'id': None, 'name': 'New York Times'}, 'author': 'Steven Petrow', 'title': 'Dating During the Coronavirus Pandemic Means Fear. Again.', 'description': 'I never imagined I’d live to witness another viral threat.', 'url': 'https://www.nytimes.com/2020/10/18/opinion/covid-dating-hiv.html', 'urlToImage': 'https://static01.nyt.com/images/2020/10/18/opinion/18petrow/18petrow-facebookJumbo.jpg', 'publishedAt': '2020-10-18T14:28:33Z', 'content': 'Others have made different adaptations, seeking companionship over intimacy. Braden Toan, another friend in his 60s, changed his dating profile in May to declare sex off limits. That being said, his … [+2079 chars]'}, {'source': {'id': None, 'name': 'New York Times'}, 'author': 'Judyth Twigg', 'title': \"With Russia's Coronavirus Vaccine, Putin Jumps Ahead of Trump\", 'description': 'As America retreats from world affairs, Russia is promising other nations help on the pandemic.', 'url': 'https://www.nytimes.com/2020/10/13/opinion/coronavirus-vaccine-russia-united-states.html', 'urlToImage': 'https://static01.nyt.com/images/2020/10/13/opinion/13twigg-01/13twigg-01-facebookJumbo.jpg', 'publishedAt': '2020-10-13T09:00:08Z', 'content': 'The United States, for example, has secured advance purchase commitments for over 800 million doses of at least six candidate vaccines, all for itself. Compounding an image of selfishness, the Trump … [+2182 chars]'}, {'source': {'id': None, 'name': 'New York Times'}, 'author': 'Ken Belson', 'title': 'N.F.L. Punishes Titans for Their Handling of Coronavirus Outbreak', 'description': 'A heavy fine, but no suspensions, come after two dozen players and staff members tested positive for the virus.', 'url': 'https://www.nytimes.com/2020/10/25/sports/football/covid-outbreak-titans-workout.html', 'urlToImage': 'https://static01.nyt.com/images/2020/10/25/sports/25titans-fined/25titans-fined-facebookJumbo.jpg', 'publishedAt': '2020-10-25T13:50:51Z', 'content': 'Still, the fine, the largest for a violation of the protocols, came as the league tries to keep its season on track amid a spike in infections that has spread to at least four teams. The decision to … [+2104 chars]'}, {'source': {'id': None, 'name': 'New York Times'}, 'author': 'Remy Tumin and Karen Cetinkaya', 'title': 'Coronavirus, Supreme Court, Ikea: Your Wednesday Evening Briefing', 'description': 'Here’s what you need to know at the end of the day.', 'url': 'https://www.nytimes.com/2020/10/14/briefing/coronavirus-supreme-court-ikea.html', 'urlToImage': 'https://static01.nyt.com/images/2020/10/14/us/14evening-briefing-virus/14evening-briefing-virus-facebookJumbo.jpg', 'publishedAt': '2020-10-14T22:05:07Z', 'content': '10. And finally, what does Los Angeles smell like?\\r\\nInspired by the science writer Harold McGees new book about the worlds odors and aromas, Nose Dive, our California restaurant critic used her olfac… [+603 chars]'}, {'source': {'id': None, 'name': 'New York Times'}, 'author': 'Monika Pronczuk and Tess Felder', 'title': 'President Andrzej Duda of Poland Tests Positive for Coronavirus', 'description': 'A spokesman said the head of state was feeling well despite a positive test result. A second political leader is also in isolation after he came in contact with an infected person.', 'url': 'https://www.nytimes.com/2020/10/24/world/europe/covid-poland-president-duda.html', 'urlToImage': 'https://static01.nyt.com/images/2020/10/24/world/24virus-poland/24virus-poland-facebookJumbo.jpg', 'publishedAt': '2020-10-24T11:37:44Z', 'content': 'Mr. Duda visited the stadium on Friday and met with site managers, an encounter that has now raised concerns that the construction will have to be halted. He also met Iga Swiatek, who this month beca… [+1368 chars]'}, {'source': {'id': None, 'name': 'New York Times'}, 'author': 'Alan Blinder', 'title': 'Clemson’s Trevor Lawrence Tests Positive for the Coronavirus', 'description': 'The quarterback’s test result was announced by Coach Dabo Swinney, who also said that Lawrence had mild symptoms.', 'url': 'https://www.nytimes.com/2020/10/29/sports/trevor-lawrence-tests-positive-clemson.html', 'urlToImage': 'https://static01.nyt.com/images/2020/10/29/sports/29virus-clemson-web-1/29virus-clemson-web-1-facebookJumbo.jpg', 'publishedAt': '2020-10-30T01:57:23Z', 'content': 'And just a few months ago, he was a leading figure in the #WeWantToPlay movement that urged college sports executives to mount a football season during the pandemic. In a nod at Lawrences fame, Presi… [+1113 chars]'}, {'source': {'id': None, 'name': 'Gizmodo.com'}, 'author': 'Ed Cara', 'title': \"Please Don't Freak Out About the Latest Coronavirus Antibody Study\", 'description': 'Early data from an ongoing study in the UK is setting off a wave of alarm over the pandemic this week. It found evidence that levels of antibodies to SARS-CoV-2 took a sharp plunge in England’s general population during the summer, prompting fears that immuni…', 'url': 'https://gizmodo.com/please-dont-freak-out-about-the-latest-coronavirus-anti-1845511663', 'urlToImage': 'https://i.kinja-img.com/gawker-media/image/upload/c_fill,f_auto,fl_progressive,g_center,h_675,pg_1,q_80,w_1200/cvv5rp2nc5t9ou38wxpb.jpg', 'publishedAt': '2020-10-28T21:33:00Z', 'content': 'Early data from an ongoing study in the UK is setting off a wave of alarm over the pandemic this week. It found evidence that levels of antibodies to SARS-CoV-2 took a sharp plunge in Englands genera… [+5208 chars]'}, {'source': {'id': None, 'name': 'New York Times'}, 'author': 'Jim Tankersley, Noah Weiland and Emily Cochrane', 'title': 'White House Opposes Expanded Coronavirus Testing, Complicating Stimulus Talks', 'description': 'Some administration officials say testing Americans with no symptoms of the coronavirus would hurt the economy and restrict civil liberties. Democrats and some prominent experts say it would slow the virus and bolster economic growth.', 'url': 'https://www.nytimes.com/2020/10/16/business/white-house-coronavirus-testing.html', 'urlToImage': 'https://static01.nyt.com/images/2020/10/15/business/15DC-Virus-Testing-01/15DC-Virus-Testing-01-facebookJumbo.jpg', 'publishedAt': '2020-10-16T22:14:56Z', 'content': 'No testing scheme, no test is perfect. There will always be people who go undetected, said Dr. David Dowdy, an infectious disease epidemiologist at Johns Hopkins University who has researched and wri… [+2055 chars]'}]}, {'status': 'ok', 'totalResults': 120923, 'articles': [{'source': {'id': None, 'name': 'New York Times'}, 'author': 'Peter Baker', 'title': 'Trump Mimics Coronavirus ‘Superspreader’ Event in Barrett Swearing In', 'description': 'Amy Coney Barrett was confirmed as the next Supreme Court justice only eight days before a presidential election.', 'url': 'https://www.nytimes.com/2020/10/26/us/politics/trump-barrett.html', 'urlToImage': 'https://static01.nyt.com/images/2020/11/26/us/politics/26dc-rosegarden-sub/26dc-rosegarden-sub-facebookJumbo.jpg', 'publishedAt': '2020-10-27T13:08:12Z', 'content': 'Justice Barrett, 48, who has seven children, will be the current courts youngest member, its third woman, its sixth Catholic and its only jurist from outside the Ivy League. A graduate of Notre Dame … [+2027 chars]'}, {'source': {'id': None, 'name': 'Lifehacker.com'}, 'author': 'Beth Skwarecki on Vitals, shared by Beth Skwarecki to Lifehacker', 'title': 'How to Spot a Counterfeit N95 Mask', 'description': 'N95 respirator masks are more effective at stopping coronavirus-containing droplets than disposable surgical or cloth masks. But since they’re in such high demand, there’s a booming market in counterfeit and mislabeled masks. Recently, authorities in Hong Kon…', 'url': 'https://vitals.lifehacker.com/how-to-spot-a-counterfeit-n95-mask-1845531063', 'urlToImage': 'https://i.kinja-img.com/gawker-media/image/upload/c_fill,f_auto,fl_progressive,g_center,h_675,pg_1,q_80,w_1200/m7fwjhein6hgk6lzbobq.jpg', 'publishedAt': '2020-10-30T19:30:00Z', 'content': 'N95 respirator masks are more effective at stopping coronavirus-containing droplets than disposable surgical or cloth masks. But since theyre in such high demand, theres a booming market in counterfe… [+1354 chars]'}, {'source': {'id': None, 'name': 'New York Times'}, 'author': 'The New York Times', 'title': 'Harrowing New Coronavirus Surge Rages Across America’s Heartland', 'description': 'The U.S. set a single-day record of 82,154 new cases on Friday, less than two weeks before Election Day. Two vaccine trials resumed after pausing for safety concerns.', 'url': 'https://www.nytimes.com/live/2020/10/24/world/covid-19-coronavirus-updates', 'urlToImage': 'https://static01.nyt.com/images/2020/10/23/us/23virus-briefing-record2/23virus-briefing-record2-facebookJumbo.jpg', 'publishedAt': '2020-10-24T13:45:33Z', 'content': 'LiveUpdated\\xa0Oct. 24, 2020, 9:31 a.m. ET\\r\\nOct. 24, 2020, 9:31 a.m. ET\\r\\nThe U.S. set a single-day record of 82,154 new cases on Friday, less than two weeks before Election Day. Two vaccine trials resum… [+14587 chars]'}, {'source': {'id': None, 'name': 'New York Times'}, 'author': 'Andrew E. Kramer', 'title': 'Russian Provinces Hit by a Second Wave of Coronavirus', 'description': 'Overall, Russia’s health care system is coping with a fall surge in cases, but bodies are piling up in overwhelmed regional hospitals and morgues.', 'url': 'https://www.nytimes.com/2020/10/31/world/europe/russian-provinces-coronavirus-putin.html', 'urlToImage': 'https://static01.nyt.com/images/2020/10/31/world/31russia-virus/31russia-virus-facebookJumbo.jpg', 'publishedAt': '2020-10-31T12:28:34Z', 'content': 'In testimonials and videos from Russias regions, some harrowing accounts are emerging.\\r\\nIn Novokuznetsk, a Siberian coal mining town, a morgue worker posted a video in which he appeared to walk on bo… [+1533 chars]'}, {'source': {'id': None, 'name': 'New York Times'}, 'author': 'Amanda Rosa', 'title': 'SUNY Oneonta President Resigns After 700 Students Test Positive for Coronavirus', 'description': 'The State University of New York at Oneonta had the worst coronavirus outbreak of any public university in the state.', 'url': 'https://www.nytimes.com/2020/10/15/nyregion/oneonta-college-coronavirus-president.html', 'urlToImage': 'https://static01.nyt.com/images/2020/09/15/nyregion/15nyvirus-oneonta/merlin_176542110_46f6cb32-78af-4226-965e-154903c40539-facebookJumbo.jpg', 'publishedAt': '2020-10-15T22:40:58Z', 'content': 'Although the university did not directly tie Dr. Morriss resignation to its handling of the outbreak, state and local officials at a news conference on Thursday announcing the change praised the effo… [+1682 chars]'}, {'source': {'id': None, 'name': 'New York Times'}, 'author': 'Emily Sohn', 'title': 'Can I Safely Send My Kid to Day Care? We Asked the Experts', 'description': 'As states struggle with reopening, parents are scrambling to figure out child care amid a fall surge of coronavirus.', 'url': 'https://www.nytimes.com/2020/10/22/parenting/day-care-safe-covid.html', 'urlToImage': 'https://static01.nyt.com/images/2020/10/16/multimedia/par-daycare-16/par-daycare-16-facebookJumbo.jpg', 'publishedAt': '2020-10-23T13:29:11Z', 'content': 'When it comes to transmission of Covid-19 through day cares, data remains scarce.\\r\\nNevertheless, studies from several countries have found that, once they are exposed, kids under 10 are about half as… [+2078 chars]'}, {'source': {'id': None, 'name': 'New York Times'}, 'author': 'Alan Rappeport', 'title': 'The I.M.F. sees early signs of a global economic recovery.', 'description': 'The world finance group warns that the crisis is “far from over” and that uncertainty over the coronavirus pandemic remains.', 'url': 'https://www.nytimes.com/2020/10/13/business/IMF-global-economic-recovery.html', 'urlToImage': 'https://static01.nyt.com/images/2020/10/13/business/13markets-briefing-econ/13markets-briefing-econ-facebookJumbo.jpg', 'publishedAt': '2020-10-13T12:30:05Z', 'content': 'The recession is hammering both advanced and emerging economies. The United States economy is expected to contract 4.3 percent this year, and the eurozone economy is projected to shrink 8.3 percent, … [+1109 chars]'}, {'source': {'id': None, 'name': 'New York Times'}, 'author': 'Thomas L. Friedman', 'title': 'China Got Better. We Got Sicker. Thanks, Trump.', 'description': 'With a different leader, the United States could have contained the coronavirus.', 'url': 'https://www.nytimes.com/2020/10/13/opinion/trump-china-coronavirus.html', 'urlToImage': 'https://static01.nyt.com/images/2020/10/13/opinion/13friedman1/13friedman1-facebookJumbo.jpg', 'publishedAt': '2020-10-13T23:50:48Z', 'content': 'America cannot employ such a strategy. We dont have an authoritarian government (yet), and I sure dont want one. But we failed to produce a democratic consensus to do the same job.\\r\\nThats what is so … [+2026 chars]'}, {'source': {'id': 'bbc-news', 'name': 'BBC News'}, 'author': 'https://www.facebook.com/bbcnews', 'title': 'US election 2020: Harris halts travel after aide tests positive for coronavirus', 'description': 'The vice-presidential candidate was not exposed to coronavirus positive staff, the campaign said.', 'url': 'https://www.bbc.co.uk/news/election-us-2020-54559605', 'urlToImage': 'https://ichef.bbci.co.uk/news/1024/branded_news/E5F8/production/_114927885_gettyimages-1228964799-1.jpg', 'publishedAt': '2020-10-15T14:39:52Z', 'content': 'image copyrightGetty Images\\r\\nimage captionMr Biden and Mrs Harris campaigned in Arizona together last Thursday\\r\\nDemocratic vice-presidential candidate Kamala Harris will halt campaign travel until Mo… [+2549 chars]'}, {'source': {'id': 'bbc-news', 'name': 'BBC News'}, 'author': 'https://www.facebook.com/bbcnews', 'title': \"'My parents had hearts of gold, they didn't deserve it'\", 'description': 'How people are dealing with the effects of coronavirus in one New York neighbourhood.', 'url': 'https://www.bbc.co.uk/news/business-54720268', 'urlToImage': 'https://ichef.bbci.co.uk/news/1024/branded_news/3B1A/production/_115103151_salvatoreforte1.png', 'publishedAt': '2020-11-01T00:27:49Z', 'content': 'By Michelle FleuryNorth America Business correspondent, New York\\r\\nIn late March, Salvatore Forte\\'s father woke up shivering uncontrollably. \\r\\n\"I\\'ve never seen him like that,\" Mr Forte says.\\r\\nHe calle… [+6228 chars]'}, {'source': {'id': 'bbc-news', 'name': 'BBC News'}, 'author': 'https://www.facebook.com/bbcnews', 'title': \"Coronavirus: WHO head calls herd immunity approach 'immoral'\", 'description': 'Dr Ghebreyesus said allowing coronavirus to spread unchecked would cause unnecessary suffering and death.', 'url': 'https://www.bbc.co.uk/news/world-54518286', 'urlToImage': 'https://ichef.bbci.co.uk/news/1024/branded_news/00B1/production/_114877100_tv063687635.jpg', 'publishedAt': '2020-10-12T22:23:30Z', 'content': \"Image copyrightReutersImage caption\\r\\n Dr Ghebreyesus said allowing the virus to spread would cause 'unnecessary' suffering\\r\\nThe head of the World Health Organization has ruled out a herd immunity res… [+1472 chars]\"}, {'source': {'id': 'bbc-news', 'name': 'BBC News'}, 'author': None, 'title': 'World number one Johnson tests positive for coronavirus', 'description': 'World number one Dustin Johnson tests positive for coronavirus, the PGA Tour announces.', 'url': 'https://www.bbc.co.uk/sport/golf/54532968', 'urlToImage': 'https://ichef.bbci.co.uk/live-experience/cps/624/cpsprodpb/C971/production/_114896515_johnson.jpg', 'publishedAt': '2020-10-13T20:06:08Z', 'content': 'Johnson playing in the US Open in September\\r\\nWorld number one Dustin Johnson has tested positive for coronavirus, the PGA Tour has announced.\\r\\nJohnson, 36, who is now self-isolating, has withdrawn fr… [+752 chars]'}, {'source': {'id': 'bbc-news', 'name': 'BBC News'}, 'author': 'https://www.facebook.com/bbcnews', 'title': 'Bihar elections: Crowds throng rallies amid coronavirus fear', 'description': 'Experts say that flouting coronavirus safety rules at rallies can have devastating consequences.', 'url': 'https://www.bbc.co.uk/news/world-asia-india-54657433', 'urlToImage': 'https://ichef.bbci.co.uk/news/1024/branded_news/8B1E/production/_115041653_gettyimages-1229209078.jpg', 'publishedAt': '2020-10-23T07:59:57Z', 'content': 'By Vikas PandeyBBC News, Delhi\\r\\nimage copyrightGetty Images\\r\\nimage captionLarge crowds have been seen in political rallies in BIhar\\r\\nIndian Prime Minister Narendra Modi on Tuesday asked people not to… [+5312 chars]'}, {'source': {'id': 'bbc-news', 'name': 'BBC News'}, 'author': 'https://www.facebook.com/bbcnews', 'title': \"Covid: White House accuses top scientist Fauci of 'playing politics'\", 'description': 'Infectious disease expert Anthony Fauci is accused of playing politics in an interview about coronavirus.', 'url': 'https://www.bbc.co.uk/news/election-us-2020-54774137', 'urlToImage': 'https://ichef.bbci.co.uk/news/1024/branded_news/B6F5/production/_115173864_gettyimages-1213154756-1.jpg', 'publishedAt': '2020-11-01T21:58:20Z', 'content': 'image captionDr Fauci said Mr Trump was looking at the pandemic from the perspective of \"the economy and reopening the country\"\\r\\nThe White House has accused leading infectious disease expert Anthony … [+2865 chars]'}, {'source': {'id': 'mashable', 'name': 'Mashable'}, 'author': 'Tulika Bose', 'title': 'Your privacy may be another victim of the coronavirus pandemic', 'description': 'Drones. Surveillance creep. A terrifying new normal is approaching...regardless of whether we like it or not.\\xa0\\nRead the full story here. Read more...More about Mashable Video, Cybersecurity, Election, Digital Surveillance, and Tech', 'url': 'https://mashable.com/video/digital-surveillance/', 'urlToImage': 'https://mondrian.mashable.com/2020%252F10%252F12%252F09%252F8c9f9b1415324b74802699f1134473b9.ed84f.png%252F1200x630.png?signature=gwmQYlLb515fmTb2i3OtYyO2qZI=', 'publishedAt': '2020-10-12T19:52:58Z', 'content': 'Drones. Surveillance creep. A terrifying new normal is approaching...regardless of whether we like it or not.\\xa0\\r\\nRead the full story here.'}, {'source': {'id': None, 'name': 'New York Times'}, 'author': 'Alan Blinder', 'title': 'Nick Saban, Alabama’s Football Coach, Tests Positive for Coronavirus', 'description': 'The renowned Alabama coach is the most prominent figure in college sports known to have tested positive during the coronavirus pandemic.', 'url': 'https://www.nytimes.com/2020/10/14/sports/ncaafootball/coronavirus-nick-saban-alabama.html', 'urlToImage': 'https://static01.nyt.com/images/2020/10/14/sports/14saban-web-1/14saban-web-1-facebookJumbo.jpg', 'publishedAt': '2020-10-14T22:12:04Z', 'content': 'Nick Saban, the University of Alabamas revered football coach and one of the most powerful figures in college sports, said Wednesday that he had tested positive for the coronavirus.\\r\\nSaban, whose sec… [+909 chars]'}, {'source': {'id': None, 'name': 'New York Times'}, 'author': 'The New York Times', 'title': 'American Public Grows Increasingly Wary of Coronavirus Vaccines', 'description': 'California and New York plan to review any federally approved coronavirus vaccine, part of a growing skepticism as the Trump administration has pushed for speedy drug development.', 'url': 'https://www.nytimes.com/live/2020/10/20/world/covid-19-coronavirus-updates', 'urlToImage': 'https://static01.nyt.com/images/2020/10/20/world/20virus-briefing-vaccines1/20virus-briefing-vaccines1-facebookJumbo.jpg', 'publishedAt': '2020-10-20T09:53:46Z', 'content': 'LiveUpdated\\xa0Oct. 20, 2020, 6:06 a.m. ET\\r\\nOct. 20, 2020, 6:06 a.m. ET\\r\\nCalifornia and New York plan to review any federally approved coronavirus vaccine, part of a growing skepticism as the Trump admi… [+14717 chars]'}, {'source': {'id': 'mashable', 'name': 'Mashable'}, 'author': 'Sasha Lekach', 'title': \"After coronavirus shutdown, Lyft's self-driving cars will pick up passengers again\", 'description': 'You can order a self-driving car on Lyft again.\\xa0\\nThe company paused its autonomous taxi program, which only operates in Las Vegas, in \\xa0March because of the coronavirus pandemic. Starting Thursday, the fleet will be picking up passengers again. Before the shut…', 'url': 'https://mashable.com/article/lyft-motional-self-driving-cars-return/', 'urlToImage': 'https://mondrian.mashable.com/2020%252F10%252F22%252F2e%252F7ba5adca524a43ad842977b5d22c6126.1d68b.jpg%252F1200x630.jpg?signature=Vv6wmO76cVvRmsIf994VYxmqynQ=', 'publishedAt': '2020-10-22T13:00:00Z', 'content': 'You can order a self-driving car on Lyft again.\\xa0\\r\\nThe company paused its autonomous taxi program, which only operates in Las Vegas, in \\xa0March because of the coronavirus pandemic. Starting Thursday, t… [+1182 chars]'}, {'source': {'id': None, 'name': 'New York Times'}, 'author': 'Apoorva Mandavilli', 'title': 'Could Trump Still Spread the Coronavirus? Probably Not, Experts Say', 'description': 'While questions have surrounded the timing and severity of the president’s illness, health experts said he was unlikely to infect people at Thursday’s town hall event on NBC.', 'url': 'https://www.nytimes.com/2020/10/15/us/politics/covid-trump.html', 'urlToImage': 'https://static01.nyt.com/images/2020/10/15/us/politics/15virus-trumptownhall/15virus-trumptownhall-facebookJumbo.jpg', 'publishedAt': '2020-10-15T19:36:53Z', 'content': 'The Centers for Disease Control and Prevention recommends that infected patients isolate for at least 10 days if they had mild or moderate illness, and for up to 20 days if they had severe symptoms. … [+1238 chars]'}, {'source': {'id': None, 'name': 'New York Times'}, 'author': 'Julie Bosman, Sarah Mervosh and Marc Santora', 'title': 'As the Coronavirus Surges, a New Culprit Emerges: Pandemic Fatigue', 'description': 'Exhaustion and impatience are creating new risks as cases soar in parts of the world. “They have had enough,” one U.S. mayor said of her residents.', 'url': 'https://www.nytimes.com/2020/10/17/us/coronavirus-pandemic-fatigue.html', 'urlToImage': 'https://static01.nyt.com/images/2020/10/17/us/17virus-stateofthevirus/17virus-stateofthevirus-facebookJumbo.jpg', 'publishedAt': '2020-10-17T19:50:37Z', 'content': 'Sick people are telling contact tracers they picked up the virus while trying to return to ordinary life. Beth Martin, a retired school librarian who is working as a contact tracer in Marathon County… [+1297 chars]'}]}, {'status': 'ok', 'totalResults': 120923, 'articles': [{'source': {'id': None, 'name': 'New York Times'}, 'author': 'The New York Times', 'title': 'Coronavirus Reinfections Do Happen but Are Very, Very Rare', 'description': 'A case in Nevada has prompted concerns that recovered people may still be vulnerable. The Midwest and West are driving a U.S. surge. Here’s the latest.', 'url': 'https://www.nytimes.com/live/2020/10/14/world/covid-coronavirus', 'urlToImage': 'https://static01.nyt.com/images/2020/10/14/us/politics/14virus-briefing-reinfection4/merlin_175562739_546635df-0978-488a-a02b-9776e2493cd2-facebookJumbo.jpg', 'publishedAt': '2020-10-14T10:00:24Z', 'content': 'LiveUpdated\\xa0Oct. 14, 2020, 5:43 a.m. ET\\r\\nOct. 14, 2020, 5:43 a.m. ET\\r\\nA case in Nevada has prompted concerns that people who have recovered from the coronavirus may still be vulnerable. Thats unlikel… [+8345 chars]'}, {'source': {'id': None, 'name': 'New York Times'}, 'author': 'Remy Tumin, Will Dudding and Jeremiah M. Bogert, Jr.', 'title': 'Coronavirus Surge, 2020 Election, Borat: Your Friday Evening Briefing', 'description': 'Here’s what you need to know at the end of the day.', 'url': 'https://www.nytimes.com/2020/10/23/briefing/coronavirus-surge-2020-election-borat.html', 'urlToImage': 'https://static01.nyt.com/images/2020/10/22/us/23evening-briefing-promo/merlin_178899207_165b7fcb-71d3-4652-bd78-71bd499cbfb8-facebookJumbo.jpg', 'publishedAt': '2020-10-23T22:01:58Z', 'content': '10. And finally, ending the week on a sweet note.\\r\\nSugar Good, the manager of the Dunkin doughnut store in Edmond, Okla., knew John Thompson by his order. Each weekday morning at 7:15, she handed him… [+514 chars]'}, {'source': {'id': None, 'name': 'New York Times'}, 'author': 'Mitch Smith', 'title': 'U.S. Coronavirus Cases Set New Record as Infections Soar', 'description': 'The previous record for most cases in a single day was set one day before amid a spiraling outbreak. Case levels reached highs in almost half the country.', 'url': 'https://www.nytimes.com/2020/10/30/us/us-coronavirus-case-record.html', 'urlToImage': 'https://static01.nyt.com/images/2020/10/30/us/30virus-casecount/merlin_179009070_9fd71e0e-3237-49fe-a484-496a2b2d0c35-facebookJumbo.jpg', 'publishedAt': '2020-10-30T22:42:59Z', 'content': 'CHICAGO \\xa0More than 92,000 coronavirus infections were reported across the United States on Friday, setting the single-day record for cases as the nations outbreak spiraled further out of control. The… [+914 chars]'}, {'source': {'id': None, 'name': 'New York Times'}, 'author': 'Remy Tumin and Judith Levitt', 'title': 'Coronavirus Surge, Election Day, Sean Connery: Your Weekend Briefing', 'description': 'Here’s what you need to know about the week’s top stories.', 'url': 'https://www.nytimes.com/2020/11/01/briefing/coronavirus-surge-election-day-sean-connery.html', 'urlToImage': 'https://static01.nyt.com/images/2020/10/31/multimedia/31virus-weekendbriefing-promo/merlin_179257848_f3834a87-92be-41d0-9314-863178a2b96b-facebookJumbo.jpg', 'publishedAt': '2020-11-01T11:15:21Z', 'content': '2. With 48 hours to go, President Trump and Joe Biden are crisscrossing the key battleground states of Pennsylvania, Michigan, Florida, Iowa and Georgia in a last sprint to drive voter turnout.\\r\\nMr. … [+800 chars]'}, {'source': {'id': None, 'name': 'New York Times'}, 'author': 'Sarah Kliff', 'title': 'A $52,112 Helicopter Ride: Coronavirus Patients Battle Surprise Medical Bills', 'description': 'Congress was close to a solution before getting hit with millions of dollars of ads from private-equity firms. Then the pandemic struck.', 'url': 'https://www.nytimes.com/2020/10/13/upshot/coronavirus-surprise-medical-bills.html', 'urlToImage': 'https://static01.nyt.com/images/2020/10/06/upshot/up-coronavirus-surprise/up-coronavirus-surprise-facebookJumbo.jpg', 'publishedAt': '2020-10-13T14:19:18Z', 'content': 'The government is telling people if you have coronavirus, you cannot get surprise-billed, Dr. Chhabra said. Its incredibly counterproductive if people cannot trust the policies meant to protect them … [+2040 chars]'}, {'source': {'id': None, 'name': 'New York Times'}, 'author': 'Benjamin Mueller', 'title': 'To Test Coronavirus Vaccines, UK Study Will Intentionally Infect Volunteers', 'description': 'The hotly contested strategy of deliberate exposure, known as a human challenge trial, could speed up the process of identifying effective coronavirus vaccines.', 'url': 'https://www.nytimes.com/2020/10/20/world/europe/coronavirus-vaccine-uk.html', 'urlToImage': 'https://static01.nyt.com/images/2020/10/20/world/20UK-Virus/20UK-Virus-facebookJumbo.jpg', 'publishedAt': '2020-10-20T23:02:42Z', 'content': 'LONDON Scientists at Imperial College London plan to deliberately infect volunteers with the coronavirus early next year, launching the worlds first effort to study how vaccinated people respond to b… [+1392 chars]'}, {'source': {'id': None, 'name': 'New York Times'}, 'author': 'Ken Belson, Andrew Das and Katherine J. Wu', 'title': 'Colts Report False Coronavirus Positives and Patriots Call Off Practice', 'description': 'Indianapolis announced four positives, then said that re-testing produced different results. Both teams plan to play Sunday.', 'url': 'https://www.nytimes.com/2020/10/16/sports/football/patriots-colts-coronavirus-nfl.html', 'urlToImage': 'https://static01.nyt.com/images/2020/10/16/sports/16nfl-positives-1/16nfl-positives-1-facebookJumbo.jpg', 'publishedAt': '2020-10-18T14:20:56Z', 'content': 'The Indianapolis Colts on Friday briefly joined the growing group of N.F.L. teams dealing with a potential outbreak of coronavirus cases. Hours later, though, the team announced that the four individ… [+1406 chars]'}, {'source': {'id': None, 'name': 'New York Times'}, 'author': 'Remy Tumin and Judith Levitt', 'title': 'Coronavirus Surge, 2020 Election, M.L.B. Playoffs: Your Weekend Briefing', 'description': 'Here’s what you need to know about the week’s top stories.', 'url': 'https://www.nytimes.com/2020/10/18/briefing/coronavirus-surge-2020-election-mlb-playoffs.html', 'urlToImage': 'https://static01.nyt.com/images/2020/10/17/multimedia/17hpfader-slide8-weekendbrieifing-promo/17hpfader-slide8-weekendbrieifing-facebookJumbo-v3.jpg', 'publishedAt': '2020-10-18T09:39:12Z', 'content': '2. Joe Biden is vastly outspending President Trump in television advertising, maintaining a nearly 2-to-1 advantage on the airwaves.\\r\\nHis dominance is most pronounced in three critical swing states M… [+738 chars]'}, {'source': {'id': None, 'name': 'New York Times'}, 'author': 'Remy Tumin and Judith Levitt', 'title': '2020 Election, Coronavirus Surge, Fall Cocktails: Your Weekend Briefing', 'description': 'Here’s what you need to know about the week’s top stories.', 'url': 'https://www.nytimes.com/2020/10/25/briefing/2020-election-coronavirus-surge-fall-cocktails-.html', 'urlToImage': 'https://static01.nyt.com/images/2020/10/24/multimedia/24weekend-briefing-pm-vote/24weekend-briefing-pm-vote-facebookJumbo.jpg', 'publishedAt': '2020-10-25T10:00:05Z', 'content': '7. Against all odds, professional sports came back in 2020. Now comes the hard part: They have to do it again.\\r\\nAggressive coronavirus testing made the restart of professional sports possible, but th… [+512 chars]'}, {'source': {'id': None, 'name': 'New York Times'}, 'author': 'Noah Weiland and Sharon LaFraniere', 'title': 'Celebrity Vetting and ‘Helping the President’ to Defeat Coronavirus Despair', 'description': 'In a letter to Alex M. Azar II, the health secretary, House Democrats detailed how a $265 million public relations campaign tried to bolster President Trump.', 'url': 'https://www.nytimes.com/2020/10/29/us/politics/coronavirus-public-relations-trump.html', 'urlToImage': 'https://static01.nyt.com/images/2020/10/29/lens/29dc-virusadcampaign-azar/29dc-virusadcampaign-azar-facebookJumbo.jpg', 'publishedAt': '2020-10-29T13:13:28Z', 'content': 'Mr. Caputo appeared to be trying to shore up support from Mr. Trumps followers who might be skeptical of wearing masks or getting a vaccine by linking those activities with supporting the president. … [+1780 chars]'}, {'source': {'id': None, 'name': 'New York Times'}, 'author': 'Remy Tumin and Jeremiah M. Bogert, Jr.', 'title': 'Coronavirus, Migrant Children, November Books: Your Friday Evening Briefing', 'description': 'Here’s what you need to know at the end of the day.', 'url': 'https://www.nytimes.com/2020/10/30/briefing/coronavirus-migrant-children-november-books.html', 'urlToImage': 'https://static01.nyt.com/images/2020/10/30/lens/30evening-briefing-promo/30evening-briefing-virus-facebookJumbo.jpg', 'publishedAt': '2020-10-30T21:56:47Z', 'content': '4. In battleground states, both parties are succeeding in coaxing infrequent voters like Geraldine Folk, above, off the sidelines. The all-important question is who will do it better.\\r\\nIn Pennsylvani… [+628 chars]'}, {'source': {'id': 'cnn', 'name': 'CNN'}, 'author': None, 'title': 'These rescued dogs got stuck when Covid-19 hit', 'description': 'Animal rescues around the world continue despite coronavirus travel restrictions, thanks to determined animal welfare advocates.', 'url': 'https://www.cnn.com/videos/travel/2020/10/13/animal-rescues-around-the-world-2020-travel-orig-ff.cnn', 'urlToImage': 'https://cdn.cnn.com/cnnnext/dam/assets/201006112233-12-dog-rescue-photos-restricted-super-tease.jpg', 'publishedAt': '2020-10-14T11:40:19Z', 'content': None}, {'source': {'id': 'bbc-news', 'name': 'BBC News'}, 'author': 'https://www.facebook.com/bbcnews', 'title': 'Coronavirus: Dutch royals return amid anger over Covid holiday', 'description': 'The family flew back from Greece after just a day on holiday there, amid intense criticism.', 'url': 'https://www.bbc.co.uk/news/world-europe-54548631', 'urlToImage': 'https://ichef.bbci.co.uk/news/1024/branded_news/16B07/production/_114953929_mediaitem114953928.jpg', 'publishedAt': '2020-10-17T21:07:51Z', 'content': 'image captionA vehicle carrying the royal family arrives back at Huis ten Bosch palace in The Hague\\r\\nThe Dutch royal family is back in the country after a holiday that lasted just one day, following … [+2443 chars]'}, {'source': {'id': 'bbc-news', 'name': 'BBC News'}, 'author': None, 'title': \"Coronavirus: 'I just wish my parents were still here'\", 'description': \"Isaiah and Nathan's mother and father died from Covid-19 within two weeks of each other.\", 'url': 'https://www.bbc.co.uk/news/av/world-us-canada-54621859', 'urlToImage': 'https://ichef.bbci.co.uk/images/ic/400xn/p08vvqkr.jpg', 'publishedAt': '2020-10-20T22:21:23Z', 'content': 'When Nathan and Isaiah first heard of Covid-19 in school, they never thought it would affect their family. But in July, the virus took both of their parents. \\r\\nNine months since coronavirus arrived i… [+113 chars]'}, {'source': {'id': 'bbc-news', 'name': 'BBC News'}, 'author': None, 'title': \"Coronavirus: 'I caught Covid at my uncle's funeral'\", 'description': 'A man in India who spread coronavirus after catching it at a funeral reflects on his decision to attend.', 'url': 'https://www.bbc.co.uk/news/av/world-54620048', 'urlToImage': 'https://ichef.bbci.co.uk/images/ic/400xn/p08vy5rz.jpg', 'publishedAt': '2020-10-21T23:13:06Z', 'content': \"Binu, a construction worker in the southern Indian state of Kerala, sorely regrets attending his uncle's funeral. He caught Covid-19 at the ceremony and spread it to at least another eight people.\\r\\nD… [+382 chars]\"}, {'source': {'id': 'bbc-news', 'name': 'BBC News'}, 'author': 'https://www.facebook.com/bbcnews', 'title': \"Tanzania President John Magufuli: The man who 'banned' coronavirus\", 'description': 'President John Magufuli’s idiosyncratic handling of Covid-19 has put Tanzania in the global spotlight.', 'url': 'https://www.bbc.co.uk/news/world-africa-54603689', 'urlToImage': 'https://ichef.bbci.co.uk/news/1024/branded_news/9A67/production/_114972593_gettyimages-1228255389.jpg', 'publishedAt': '2020-10-21T23:18:19Z', 'content': \"By Basillioh MutahiBBC News, Nairobi\\r\\nimage copyrightGetty Images\\r\\nTanzania President John Magufuli's idiosyncratic handling of the coronavirus pandemic has put the country in the global spotlight. N… [+13280 chars]\"}, {'source': {'id': 'bbc-news', 'name': 'BBC News'}, 'author': None, 'title': 'Cristiano Ronaldo: Portugal and Juventus forward recovers from coronavirus', 'description': 'Portugal and Juventus forward Cristiano Ronaldo completes his recovery from coronavirus after spending 19 days in isolation.', 'url': 'https://www.bbc.co.uk/sport/football/54752098', 'urlToImage': 'https://ichef.bbci.co.uk/live-experience/cps/624/cpsprodpb/11FC0/production/_115146637_gettyimages-1228948483.jpg', 'publishedAt': '2020-10-30T18:03:44Z', 'content': 'Cristiano Ronaldo last played for Portugal in a 0-0 draw with France in the Nations League on 11 October\\r\\nPortugal and Juventus forward Cristiano Ronaldo has completed his recovery from coronavirus a… [+694 chars]'}, {'source': {'id': None, 'name': 'Gizmodo.com'}, 'author': 'Tom McKay', 'title': 'San Francisco and Oakland Drop Covid-19 Testing Program Run by Google Sister Company Verily', 'description': 'San Francisco and Alameda counties have stopped using Verily, Google’s health-focused sister company, to test for the novel coronavirus, Kaiser Health News reported on Monday.Read more...', 'url': 'https://gizmodo.com/san-francisco-and-oakland-drop-covid-19-testing-program-1845488646', 'urlToImage': 'https://i.kinja-img.com/gawker-media/image/upload/c_fill,f_auto,fl_progressive,g_center,h_675,pg_1,q_80,w_1200/fvej7w9l3lrequ48fgcl.jpg', 'publishedAt': '2020-10-26T23:10:00Z', 'content': 'San Francisco and Alameda counties have stopped using Verily, Googles health-focused sister company, to test for the novel coronavirus, Kaiser Health News reported on Monday.\\r\\nVerily launched a pilot… [+4531 chars]'}, {'source': {'id': None, 'name': 'New York Times'}, 'author': 'Alan Blinder', 'title': 'Southeastern Conference’s Crises Show How College Football Teeters Day by Day', 'description': 'The biggest league in college football has postponed two games this week and seen the sport’s most famous coach enter isolation after testing positive for the coronavirus.', 'url': 'https://www.nytimes.com/2020/10/16/sports/ncaafootball/coronavirus-college-football-sec.html', 'urlToImage': 'https://static01.nyt.com/images/2020/10/16/sports/16collegefootball01/16collegefootball01-facebookJumbo.jpg', 'publishedAt': '2020-10-16T07:00:10Z', 'content': 'Until we have a vaccine, theres going to be a sense of fluidity, said Heather Lyke, the athletic director at Pittsburgh, which is in the Atlantic Coast Conference. But she also said she was more conf… [+1135 chars]'}, {'source': {'id': None, 'name': 'New York Times'}, 'author': 'Gillian R. Brassil', 'title': 'Sports to Watch This Week', 'description': 'Sports rebounded from early closures amid the coronavirus pandemic. Though several league bubbles have popped, these tournaments and titles are yet to be taken.', 'url': 'https://www.nytimes.com/2020/10/17/at-home/what-to-watch-in-sports.html', 'urlToImage': 'https://static01.nyt.com/newsgraphics/images/icons/defaultPromoCrop.png', 'publishedAt': '2020-10-18T03:57:07Z', 'content': 'The World Series starts Tuesday on Oct. 20 at Globe Life Field, in Arlington, Texas, times to be determined. A limited number of fans will be permitted to attend, rather than the cardboard cutouts th… [+1198 chars]'}]}, {'status': 'ok', 'totalResults': 120923, 'articles': [{'source': {'id': None, 'name': 'New York Times'}, 'author': 'Gillian R. Brassil', 'title': 'Sports to Watch This Week', 'description': 'Sports rebounded from early closures amid the coronavirus pandemic. Though several league bubbles have popped, these tournaments and titles are yet to be taken.', 'url': 'https://www.nytimes.com/2020/10/17/at-home/what-to-watch-in-sports.html', 'urlToImage': 'https://static01.nyt.com/newsgraphics/images/icons/defaultPromoCrop.png', 'publishedAt': '2020-10-18T03:57:07Z', 'content': 'The World Series starts Tuesday on Oct. 20 at Globe Life Field, in Arlington, Texas, times to be determined. A limited number of fans will be permitted to attend, rather than the cardboard cutouts th… [+1198 chars]'}, {'source': {'id': None, 'name': 'New York Times'}, 'author': 'The New York Times', 'title': 'Johnson & Johnson Halts Its Vaccine Trial', 'description': 'The pharmaceutical company paused the late-stage clinical trial of its coronavirus vaccine because of a sick volunteer. Here’s the latest.', 'url': 'https://www.nytimes.com/live/2020/10/13/world/coronavirus-covid', 'urlToImage': 'https://static01.nyt.com/images/2020/10/13/science/13virus-brief-salvation/13virus-brief-salvation-facebookJumbo.jpg', 'publishedAt': '2020-10-13T10:02:44Z', 'content': 'LiveUpdated\\xa0Oct. 13, 2020, 6:00 a.m. ET\\r\\nOct. 13, 2020, 6:00 a.m. ET\\r\\nThe pharmaceutical company paused the late-stage clinical trial of its coronavirus vaccine because of a sick volunteer.\\r\\nHeres wh… [+16779 chars]'}, {'source': {'id': None, 'name': 'New York Times'}, 'author': 'Sheryl Gay Stolberg', 'title': 'Fauci Says Trump Campaign Ad Uses His Words ‘Completely Out of Context’', 'description': 'Dr. Anthony S. Fauci said he wanted the Trump campaign to take down an advertisement that implied that he endorsed the administration’s coronavirus response.', 'url': 'https://www.nytimes.com/2020/10/13/us/politics/fauci-trump-ad-campaign.html', 'urlToImage': 'https://static01.nyt.com/images/2020/10/13/us/politics/13dc-virus-fauci/13dc-virus-fauci-facebookJumbo.jpg', 'publishedAt': '2020-10-13T23:15:59Z', 'content': 'At the outset of the pandemic, Dr. Fauci was often by the presidents side at news conferences, joined by Dr. Deborah L. Birx, the White House coronavirus task force coordinator. But the two appear to… [+2113 chars]'}, {'source': {'id': None, 'name': 'New York Times'}, 'author': 'Adam Liptak', 'title': 'Supreme Court Bars Curbside Voting in Alabama', 'description': 'After a state election official banned the practice, a federal trial judge allowed, but did not require, counties to offer it in response to the coronavirus pandemic.', 'url': 'https://www.nytimes.com/2020/10/21/us/supreme-court-curbside-voting-alabama.html', 'urlToImage': 'https://static01.nyt.com/images/2020/10/21/us/21dc-scotus-curbside/21dc-scotus-curbside-facebookJumbo.jpg', 'publishedAt': '2020-10-22T01:45:43Z', 'content': 'What makes this case remarkable, Mr. Merrills brief said, is that the déjà vu really is all over again.\\r\\nThe voters challenging the ban on curbside voting, represented by the NAACP Legal Defense and … [+1164 chars]'}, {'source': {'id': None, 'name': 'New York Times'}, 'author': 'Patricia Mazzei and Thomas Kaplan', 'title': 'Biden Aims to Erode Trump’s Support Among Older Voters in Florida', 'description': 'Visiting the Democratic stronghold of Broward County, Joe Biden argued that the president viewed older Americans who are at higher risk of the coronavirus as “expendable.”', 'url': 'https://www.nytimes.com/2020/10/13/us/politics/biden-trump-florida-seniors.html', 'urlToImage': 'https://static01.nyt.com/images/2020/10/13/us/politics/13biden-florida/13biden-florida-facebookJumbo.jpg', 'publishedAt': '2020-10-13T21:37:35Z', 'content': 'First time I ever donated money to a campaign, too, said Kathy Sells, 73, who wore a Biden-Harris hat, button and mask, and carried a sign she had made at home. I hate that we are laughed at by the n… [+1368 chars]'}, {'source': {'id': None, 'name': 'New York Times'}, 'author': 'The New York Times', 'title': 'Hearings, Protests and Rallies: Washington Grinds On Through the Pandemic', 'description': 'New York Times photographers captured a day of consequential events for all three branches of a government struggling to cope with the coronavirus.', 'url': 'https://www.nytimes.com/2020/10/13/us/politics/photos-supreme-court-hearing.html', 'urlToImage': 'https://static01.nyt.com/images/2020/10/13/us/politics/13dc-barrett-visuals1/13dc-barrett-visuals1-facebookJumbo.jpg', 'publishedAt': '2020-10-13T09:00:44Z', 'content': 'Twenty-two days before the election, it rained in Washington. Protesters showed up in front of the Supreme Court and the Capitol in hazmat suits that doubled as protection against the elements. Anti-… [+2750 chars]'}, {'source': {'id': None, 'name': 'New York Times'}, 'author': 'Glenn Thrush and Matt Stevens', 'title': '5 Policy Issues Where Trump and Biden Diverged at Final Debate', 'description': 'The debate on Thursday night had long stretches of illuminating policy discussion on climate change, health care, the coronavirus, immigration and criminal and racial justice.', 'url': 'https://www.nytimes.com/2020/10/23/us/politics/trum-biden-health-care-climate.html', 'urlToImage': 'https://static01.nyt.com/images/2020/10/23/us/politics/23debate-policy-1/23debate-policy-1-facebookJumbo.jpg', 'publishedAt': '2020-10-23T19:08:22Z', 'content': 'We let people in, but they have to come in legally, Mr. Trump said.\\r\\nHe also highlighted that his administration had ended the practice of catch and release, in which immigrants presenting themselves… [+1427 chars]'}, {'source': {'id': None, 'name': 'New York Times'}, 'author': 'Shmuel Rosner', 'title': 'Ultra-Orthodox Jews’ Greatest Strength Has Become Their Greatest Weakness', 'description': 'In Israel and the U.S., this isolated community is thriving. The coronavirus pandemic has shown why this may be its biggest problem.', 'url': 'https://www.nytimes.com/2020/10/29/opinion/ultra-orthodox-jews-coronavirus.html', 'urlToImage': 'https://static01.nyt.com/images/2020/10/29/opinion/29rosner-01/29rosner-01-facebookJumbo-v2.jpg', 'publishedAt': '2020-10-29T05:26:24Z', 'content': 'So it is not surprising that a sudden demand to change their communitys behavior was met by many Haredi Jews\\xa0 and, notably, by many important Haredi leaders with suspicion and open revolt. Some of th… [+3368 chars]'}, {'source': {'id': None, 'name': 'New York Times'}, 'author': 'John Eligon and Audra D. S. Burch', 'title': 'After a Summer of Racial Reckoning, Race Is on the Ballot', 'description': 'The coronavirus and battered economy are focal points in national campaigns. But in many local elections, systemic racism and police reform have emerged as dominant themes.', 'url': 'https://www.nytimes.com/2020/10/30/us/racial-justice-elections.html', 'urlToImage': 'https://static01.nyt.com/images/2020/10/29/us/30race-election/00race-election-top-swap-facebookJumbo.jpg', 'publishedAt': '2020-10-30T21:35:50Z', 'content': 'Mr. Cannon, who is white, said the killing of George Floyd by Minneapolis police officers, which led to thousands of protests across the country this summer and conversations about race and racism, s… [+1748 chars]'}, {'source': {'id': 'bbc-news', 'name': 'BBC News'}, 'author': 'https://www.facebook.com/bbcnews', 'title': 'Coronavirus: Spain passes one million Covid-19 cases', 'description': 'Spain is the first western European country and the sixth in the world to pass the landmark figure.', 'url': 'https://www.bbc.co.uk/news/world-europe-54638347', 'urlToImage': 'https://ichef.bbci.co.uk/news/1024/branded_news/1074A/production/_115020476_tv063917776.jpg', 'publishedAt': '2020-10-21T20:43:19Z', 'content': 'image captionSpain is the sixth nation worldwide to record more than one million cases\\r\\nSpain has recorded more than one million coronavirus cases, becoming the first western European country to pass… [+2662 chars]'}, {'source': {'id': 'bbc-news', 'name': 'BBC News'}, 'author': 'https://www.facebook.com/bbcnews', 'title': \"Coronavirus: Spain's funeral homes strike as cases rise\", 'description': 'Europe is grappling with a second wave as cases and deaths continue to rise.', 'url': 'https://www.bbc.co.uk/news/world-europe-54772727', 'urlToImage': 'https://ichef.bbci.co.uk/news/1024/branded_news/0273/production/_115172600_e8e118a7-26c7-4826-bdf3-83271c4c3fd3.jpg', 'publishedAt': '2020-11-01T18:18:06Z', 'content': 'image captionSpain, like many European nations, is seeing a surge in the number of coronavirus cases\\r\\nStaff at funeral homes in Spain have gone on strike to demand more workers as coronavirus deaths … [+2704 chars]'}, {'source': {'id': None, 'name': 'New York Times'}, 'author': 'Alex Marshall', 'title': 'It’s a Party at Gatsby’s Mansion. No Dancing, Please.', 'description': 'An immersive theater show of “The Great Gatsby” has returned in London. Can it keep the novel’s spirit alive while obeying the coronavirus rules?', 'url': 'https://www.nytimes.com/2020/10/19/theater/great-gatsby-immersive-london-coronavirus.html', 'urlToImage': 'https://static01.nyt.com/images/2020/10/19/arts/19gatsby1/19gatsby1-facebookJumbo.jpg', 'publishedAt': '2020-10-19T13:02:41Z', 'content': 'Eynon, standing outside, said was relieved the show was finally up and running. The new safety measures were all in place, Eynon added. As well as temperature checks at the door, there was an air fil… [+1339 chars]'}, {'source': {'id': None, 'name': 'New York Times'}, 'author': 'Dave Itzkoff', 'title': 'David Letterman Isn’t Here to Cheer You Up This Time', 'description': 'The veteran TV host is back with more episodes of his Netflix interview series and a perspective that has been altered by the coronavirus pandemic.', 'url': 'https://www.nytimes.com/2020/10/19/arts/television/david-letterman-netflix.html', 'urlToImage': 'https://static01.nyt.com/images/2020/10/19/arts/19LETTERMAN4/19LETTERMAN4-facebookJumbo.jpg', 'publishedAt': '2020-10-19T14:36:09Z', 'content': 'Do you ever find yourself fearing for the future of this country?\\r\\nI really did, until recently. And now I am confident or more confident than Ive been in the last four years that were changing presi… [+1974 chars]'}, {'source': {'id': None, 'name': 'New York Times'}, 'author': 'The New York Times', 'title': 'Pandemic’s Toll Is Worse Than the Numbers Suggest, Study Says', 'description': 'Argentina, Brazil, Britain, France, India, Russia and the United States have helped push the global total of coronavirus cases to more than 40.7 million.', 'url': 'https://www.nytimes.com/live/2020/10/21/world/covid-19-coronavirus-updates', 'urlToImage': 'https://static01.nyt.com/images/2020/10/20/multimedia/20virus-briefing-russia/20virus-briefing-russia-facebookJumbo.jpg', 'publishedAt': '2020-10-21T09:56:35Z', 'content': 'LiveUpdated\\xa0Oct. 21, 2020, 6:01 a.m. ET\\r\\nOct. 21, 2020, 6:01 a.m. ET\\r\\nArgentina, Brazil, Britain, France, India, Russia and the United States have helped push the global total of coronavirus cases to… [+22109 chars]'}, {'source': {'id': None, 'name': 'New York Times'}, 'author': 'Matthew Futterman', 'title': 'Doping Tests Are Returning, but It Might Be Too Late', 'description': 'The coronavirus pandemic made collecting blood and urine samples extremely difficult. It also made 2020 an ideal opportunity for those who wanted to cheat.', 'url': 'https://www.nytimes.com/2020/10/23/sports/olympics/covid-doping-usada-wada.html', 'urlToImage': 'https://static01.nyt.com/images/2020/10/24/sports/24doping-print1/23doping1-facebookJumbo-v2.jpg', 'publishedAt': '2020-10-23T21:03:52Z', 'content': 'Tygart said he saw all of this as something of victory, since studies of doping prevalence from the past decade have recorded anonymous admissions of guilt from as many as 40 percent of respondents.\\r… [+1892 chars]'}, {'source': {'id': None, 'name': 'New York Times'}, 'author': 'Giulia McDonnell Nieto del Rio, Simon Romero and Mike Baker', 'title': 'Hospitals Are Reeling Under a 46 Percent Spike in Covid-19 Patients', 'description': 'The number of people hospitalized with the coronavirus has climbed significantly from a month ago, straining cities that have fewer resources to weather the surges.', 'url': 'https://www.nytimes.com/2020/10/27/us/coronavirus-hospitals-capacity.html', 'urlToImage': 'https://static01.nyt.com/images/2020/10/27/us/27virus-hospitals-3/merlin_179157240_faf42dcb-6f25-4644-93d1-8c3534967a20-facebookJumbo.jpg', 'publishedAt': '2020-10-28T00:05:06Z', 'content': 'The prospect of ending up in an overcrowded hospital ward is making some who are sick with the virus hesitant to check in. At the hospital in El Paso, staff members said some Covid-19 patients were a… [+1603 chars]'}, {'source': {'id': None, 'name': 'New York Times'}, 'author': 'Thomas Kaplan', 'title': \"Joe Biden's Advisers Come from the Obama White House\", 'description': 'Mr. Biden has sought advice across the Democratic Party’s ideological spectrum, but his core advisers on the coronavirus, economics, foreign policy and climate change are familiar figures.', 'url': 'https://www.nytimes.com/2020/10/29/us/politics/joe-biden-advisers.html', 'urlToImage': 'https://static01.nyt.com/images/2020/10/29/us/politics/29biden-advisers1/29biden-advisers1-facebookJumbo.jpg', 'publishedAt': '2020-10-29T15:34:39Z', 'content': 'But Mr. Bidens inner circle on climate change is largely composed of those with whom he served in the Obama administration: Mr. Kerry; Gina McCarthy, a former Environmental Protection Agency administ… [+1785 chars]'}, {'source': {'id': None, 'name': 'New York Times'}, 'author': 'Reid J. Epstein', 'title': \"Wisconsin's Fox Valley Is Key to Presidential Election\", 'description': 'Many of Wisconsin’s swing voters live in and south of Green Bay, a region of old mill towns and farms burning with coronavirus infections and personality-driven politics.', 'url': 'https://www.nytimes.com/2020/10/30/us/politics/wisconsin-presidential-election.html', 'urlToImage': 'https://static01.nyt.com/images/2020/10/30/us/politics/30fox-valley1/30fox-valley1-facebookJumbo.jpg', 'publishedAt': '2020-10-30T15:28:01Z', 'content': 'Im not always a Democrat, it depends on the person, she said. I think a lot of people are voting for Trump because of the abortion thing. I dont like abortion either, Im against it too, but I dont li… [+1183 chars]'}, {'source': {'id': None, 'name': 'New York Times'}, 'author': 'Penelope Green', 'title': 'Enzo Mari, Industrial Designer Who Kept Things Simple, Dies at 88', 'description': 'He railed against material excess, consumerism and fame, but made poetic and useful objects that influenced generations of designers. He died of the coronavirus.', 'url': 'https://www.nytimes.com/2020/10/30/arts/design/enzo-mari-dead-coronavirus.html', 'urlToImage': 'https://static01.nyt.com/images/2020/10/29/obituaries/Mari-1/Mari-1-facebookJumbo.jpg', 'publishedAt': '2020-10-30T18:56:45Z', 'content': 'People always talk about him as a curmudgeon, she continued, and its all true, but I always found him so poetic and romantic. Maybe it was an armor.\\r\\nEnzo Mari was born on April 27, 1932, in Novaro, … [+1300 chars]'}, {'source': {'id': None, 'name': 'New York Times'}, 'author': 'Reid J. Epstein', 'title': 'How Virus Politics Divided a Conservative Town in Wisconsin’s North', 'description': 'A lightly populated area in the critical swing state of Wisconsin serves as a microcosm for the way coronavirus politics is worsening partisan schisms across America.', 'url': 'https://www.nytimes.com/2020/10/29/us/politics/wisconsin-trump-biden-coronavirus.html', 'urlToImage': 'https://static01.nyt.com/images/2020/10/29/us/politics/29wisconsin-north1/merlin_179172399_6b027a7c-995f-49bc-b724-e3ff95b52199-facebookJumbo.jpg', 'publishedAt': '2020-10-29T17:21:52Z', 'content': 'We distributed approximately 50 Hillary yard signs four years ago, and were at more than 1,200 so far for Joe, said Jane Nicholson, the party chairwoman in Vilas County, just north of Oneida County.\\r… [+1372 chars]'}]}]\n"
          ],
          "name": "stdout"
        }
      ]
    },
    {
      "cell_type": "code",
      "metadata": {
        "id": "hHm-E2QBcK4V"
      },
      "source": [
        "import pickle \n",
        "\n",
        "filename = 'articlesCOVID.pckl'\n",
        "pickle.dump(articles, open(filename, 'wb'))\n",
        "filename = 'articlesCOVID.pckl'\n",
        "loaded_model = pickle.load(open(filename, 'rb'))\n",
        "filepath = '/content/articlesCOVID.pckl'\n",
        "pickle.dump(loaded_model, open(filepath, 'wb'))"
      ],
      "execution_count": null,
      "outputs": []
    },
    {
      "cell_type": "code",
      "metadata": {
        "id": "Mcukn-hdBHE-",
        "outputId": "23fb39f0-98fd-49d1-ec21-6796c78670a6",
        "colab": {
          "base_uri": "https://localhost:8080/",
          "height": 247
        }
      },
      "source": [
        "import pandas as pd\n",
        "dados = []\n",
        "for i, article in enumerate(articles):\n",
        "    for x in article['articles']:\n",
        "        title = x['title']\n",
        "        description = x['description']\n",
        "        content = x['content']\n",
        "        dados.append({'title':title, 'desc':description, 'content':content})\n",
        "df = pd.DataFrame(dados)\n",
        "df = df.dropna()\n",
        "df.head()\n",
        "\n",
        "\n"
      ],
      "execution_count": null,
      "outputs": [
        {
          "output_type": "execute_result",
          "data": {
            "text/html": [
              "<div>\n",
              "<style scoped>\n",
              "    .dataframe tbody tr th:only-of-type {\n",
              "        vertical-align: middle;\n",
              "    }\n",
              "\n",
              "    .dataframe tbody tr th {\n",
              "        vertical-align: top;\n",
              "    }\n",
              "\n",
              "    .dataframe thead th {\n",
              "        text-align: right;\n",
              "    }\n",
              "</style>\n",
              "<table border=\"1\" class=\"dataframe\">\n",
              "  <thead>\n",
              "    <tr style=\"text-align: right;\">\n",
              "      <th></th>\n",
              "      <th>title</th>\n",
              "      <th>desc</th>\n",
              "      <th>content</th>\n",
              "    </tr>\n",
              "  </thead>\n",
              "  <tbody>\n",
              "    <tr>\n",
              "      <th>0</th>\n",
              "      <td>Sorry, Mouthwash Isn't a Coronavirus Cure</td>\n",
              "      <td>Mouthwash is designed to kill germs in your mo...</td>\n",
              "      <td>Mouthwash is designed to kill germs in your mo...</td>\n",
              "    </tr>\n",
              "    <tr>\n",
              "      <th>1</th>\n",
              "      <td>Check an Airline's Coronavirus Policies Before...</td>\n",
              "      <td>Navigating air travel during the COVID-19 pand...</td>\n",
              "      <td>Navigating air travel during the COVID-19 pand...</td>\n",
              "    </tr>\n",
              "    <tr>\n",
              "      <th>2</th>\n",
              "      <td>Twitter flags, limits sharing on Trump tweet a...</td>\n",
              "      <td>Twitter disabled sharing options on a tweet fr...</td>\n",
              "      <td>The tweet violated the platforms rules against...</td>\n",
              "    </tr>\n",
              "    <tr>\n",
              "      <th>3</th>\n",
              "      <td>Coronavirus and Home Design</td>\n",
              "      <td>A recent survey of architects reveals that cli...</td>\n",
              "      <td>The coronavirus pandemic is already shaping ho...</td>\n",
              "    </tr>\n",
              "    <tr>\n",
              "      <th>4</th>\n",
              "      <td>Coronavirus Briefing: What Happened Today</td>\n",
              "      <td>What the near future may hold</td>\n",
              "      <td>Many leaders most notably President Trump have...</td>\n",
              "    </tr>\n",
              "  </tbody>\n",
              "</table>\n",
              "</div>"
            ],
            "text/plain": [
              "                                               title  ...                                            content\n",
              "0          Sorry, Mouthwash Isn't a Coronavirus Cure  ...  Mouthwash is designed to kill germs in your mo...\n",
              "1  Check an Airline's Coronavirus Policies Before...  ...  Navigating air travel during the COVID-19 pand...\n",
              "2  Twitter flags, limits sharing on Trump tweet a...  ...  The tweet violated the platforms rules against...\n",
              "3                        Coronavirus and Home Design  ...  The coronavirus pandemic is already shaping ho...\n",
              "4          Coronavirus Briefing: What Happened Today  ...  Many leaders most notably President Trump have...\n",
              "\n",
              "[5 rows x 3 columns]"
            ]
          },
          "metadata": {
            "tags": []
          },
          "execution_count": 7
        }
      ]
    },
    {
      "cell_type": "code",
      "metadata": {
        "id": "7t-huzTwoPGA"
      },
      "source": [
        ""
      ],
      "execution_count": null,
      "outputs": []
    },
    {
      "cell_type": "code",
      "metadata": {
        "id": "efyIgYNtDVeO",
        "outputId": "0595ec9f-bda1-477e-d03c-7be70f1974bc",
        "colab": {
          "base_uri": "https://localhost:8080/"
        }
      },
      "source": [
        "!python -m nltk.downloader averaged_perceptron_tagger\n",
        "\n",
        "import nltk\n",
        "nltk.download('punkt')\n",
        "nltk.download('universal_tagset')"
      ],
      "execution_count": null,
      "outputs": [
        {
          "output_type": "stream",
          "text": [
            "/usr/lib/python3.6/runpy.py:125: RuntimeWarning: 'nltk.downloader' found in sys.modules after import of package 'nltk', but prior to execution of 'nltk.downloader'; this may result in unpredictable behaviour\n",
            "  warn(RuntimeWarning(msg))\n",
            "[nltk_data] Downloading package averaged_perceptron_tagger to\n",
            "[nltk_data]     /root/nltk_data...\n",
            "[nltk_data]   Unzipping taggers/averaged_perceptron_tagger.zip.\n",
            "[nltk_data] Downloading package punkt to /root/nltk_data...\n",
            "[nltk_data]   Unzipping tokenizers/punkt.zip.\n",
            "[nltk_data] Downloading package universal_tagset to /root/nltk_data...\n",
            "[nltk_data]   Unzipping taggers/universal_tagset.zip.\n"
          ],
          "name": "stdout"
        },
        {
          "output_type": "execute_result",
          "data": {
            "text/plain": [
              "True"
            ]
          },
          "metadata": {
            "tags": []
          },
          "execution_count": 8
        }
      ]
    },
    {
      "cell_type": "code",
      "metadata": {
        "id": "h8NlDOauOV3O",
        "outputId": "1cc8a4c2-c267-4de1-94f8-3bdbbf1c32a0",
        "colab": {
          "base_uri": "https://localhost:8080/",
          "height": 514
        }
      },
      "source": [
        "import collections\n",
        "from collections import Counter\n",
        "import string \n",
        "from string import punctuation\n",
        "import nltk\n",
        "from nltk import pos_tag\n",
        "from nltk.tokenize import word_tokenize\n",
        "import spacy\n",
        "import pandas as pd\n",
        "\n",
        "\n",
        "def get_keywords_eng(info):\n",
        "  doc = nlp_eng(info)\n",
        "  result = []\n",
        "  for token in doc:\n",
        "    if (token.text in nlp_eng.Defaults.stop_words or token.text in punctuation):\n",
        "      continue\n",
        "    #text = pos_tag(word_tokenize(token.text), tagset='universal')\n",
        "    if (token.pos_ == 'NOUN' or token.pos_ == 'VERB' or token.pos_ =='PROPN'):\n",
        "      #print(token.text)\n",
        "      result.append(token.text)\n",
        "  #print()\n",
        "  return result\n",
        "\n",
        "results = []\n",
        "for content in df.content.values:\n",
        "  results.append([('#' + x[0]) for x in Counter(get_keywords_eng(content)).most_common(5)])\n",
        "df['keywords'] = results\n",
        "\n",
        "df.head(10)\n",
        "df.to_csv(r'/content/informationGet_key_word.csv')\n",
        "\n",
        "df.head(10)"
      ],
      "execution_count": null,
      "outputs": [
        {
          "output_type": "execute_result",
          "data": {
            "text/html": [
              "<div>\n",
              "<style scoped>\n",
              "    .dataframe tbody tr th:only-of-type {\n",
              "        vertical-align: middle;\n",
              "    }\n",
              "\n",
              "    .dataframe tbody tr th {\n",
              "        vertical-align: top;\n",
              "    }\n",
              "\n",
              "    .dataframe thead th {\n",
              "        text-align: right;\n",
              "    }\n",
              "</style>\n",
              "<table border=\"1\" class=\"dataframe\">\n",
              "  <thead>\n",
              "    <tr style=\"text-align: right;\">\n",
              "      <th></th>\n",
              "      <th>title</th>\n",
              "      <th>desc</th>\n",
              "      <th>content</th>\n",
              "      <th>keywords</th>\n",
              "    </tr>\n",
              "  </thead>\n",
              "  <tbody>\n",
              "    <tr>\n",
              "      <th>0</th>\n",
              "      <td>Sorry, Mouthwash Isn't a Coronavirus Cure</td>\n",
              "      <td>Mouthwash is designed to kill germs in your mo...</td>\n",
              "      <td>Mouthwash is designed to kill germs in your mo...</td>\n",
              "      <td>[#Mouthwash, #designed, #kill, #germs, #mouth]</td>\n",
              "    </tr>\n",
              "    <tr>\n",
              "      <th>1</th>\n",
              "      <td>Check an Airline's Coronavirus Policies Before...</td>\n",
              "      <td>Navigating air travel during the COVID-19 pand...</td>\n",
              "      <td>Navigating air travel during the COVID-19 pand...</td>\n",
              "      <td>[#Navigating, #air, #travel, #pandemic, #want]</td>\n",
              "    </tr>\n",
              "    <tr>\n",
              "      <th>2</th>\n",
              "      <td>Twitter flags, limits sharing on Trump tweet a...</td>\n",
              "      <td>Twitter disabled sharing options on a tweet fr...</td>\n",
              "      <td>The tweet violated the platforms rules against...</td>\n",
              "      <td>[#tweet, #sharing, #violated, #platforms, #rules]</td>\n",
              "    </tr>\n",
              "    <tr>\n",
              "      <th>3</th>\n",
              "      <td>Coronavirus and Home Design</td>\n",
              "      <td>A recent survey of architects reveals that cli...</td>\n",
              "      <td>The coronavirus pandemic is already shaping ho...</td>\n",
              "      <td>[#pandemic, #coronavirus, #shaping, #home, #de...</td>\n",
              "    </tr>\n",
              "    <tr>\n",
              "      <th>4</th>\n",
              "      <td>Coronavirus Briefing: What Happened Today</td>\n",
              "      <td>What the near future may hold</td>\n",
              "      <td>Many leaders most notably President Trump have...</td>\n",
              "      <td>[#leaders, #President, #Trump, #described, #ar...</td>\n",
              "    </tr>\n",
              "    <tr>\n",
              "      <th>5</th>\n",
              "      <td>Coronavirus Briefing: What Happened Today</td>\n",
              "      <td>Startling fall surges in the United States and...</td>\n",
              "      <td>In Europe, where a second wave is engulfing co...</td>\n",
              "      <td>[#Europe, #wave, #engulfing, #countries, #situ...</td>\n",
              "    </tr>\n",
              "    <tr>\n",
              "      <th>6</th>\n",
              "      <td>Coronavirus Briefing: What Happened Today</td>\n",
              "      <td>Congress tried to shield Covid-19 patients fro...</td>\n",
              "      <td>Apoorva Mandavilli, who covers science and glo...</td>\n",
              "      <td>[#Apoorva, #Mandavilli, #covers, #science, #he...</td>\n",
              "    </tr>\n",
              "    <tr>\n",
              "      <th>7</th>\n",
              "      <td>Coronavirus Briefing: What Happened Today</td>\n",
              "      <td>Precaution exhaustion could create dire condit...</td>\n",
              "      <td>The Canyons School District, in an affluent su...</td>\n",
              "      <td>[#Canyons, #School, #District, #suburb, #Salt]</td>\n",
              "    </tr>\n",
              "    <tr>\n",
              "      <th>8</th>\n",
              "      <td>Coronavirus Briefing: What Happened Today</td>\n",
              "      <td>Alaska is emerging as a possible test case for...</td>\n",
              "      <td>And yet, reporting by our colleagues Sheila Ka...</td>\n",
              "      <td>[#reporting, #colleagues, #Sheila, #Kaplan, #S...</td>\n",
              "    </tr>\n",
              "    <tr>\n",
              "      <th>9</th>\n",
              "      <td>Coronavirus Briefing: What Happened Today</td>\n",
              "      <td>Hospitals across the U.S. and Europe are reach...</td>\n",
              "      <td>Once Americans begin taking vaccines for the c...</td>\n",
              "      <td>[#Americans, #begin, #taking, #vaccines, #coro...</td>\n",
              "    </tr>\n",
              "  </tbody>\n",
              "</table>\n",
              "</div>"
            ],
            "text/plain": [
              "                                               title  ...                                           keywords\n",
              "0          Sorry, Mouthwash Isn't a Coronavirus Cure  ...     [#Mouthwash, #designed, #kill, #germs, #mouth]\n",
              "1  Check an Airline's Coronavirus Policies Before...  ...     [#Navigating, #air, #travel, #pandemic, #want]\n",
              "2  Twitter flags, limits sharing on Trump tweet a...  ...  [#tweet, #sharing, #violated, #platforms, #rules]\n",
              "3                        Coronavirus and Home Design  ...  [#pandemic, #coronavirus, #shaping, #home, #de...\n",
              "4          Coronavirus Briefing: What Happened Today  ...  [#leaders, #President, #Trump, #described, #ar...\n",
              "5          Coronavirus Briefing: What Happened Today  ...  [#Europe, #wave, #engulfing, #countries, #situ...\n",
              "6          Coronavirus Briefing: What Happened Today  ...  [#Apoorva, #Mandavilli, #covers, #science, #he...\n",
              "7          Coronavirus Briefing: What Happened Today  ...     [#Canyons, #School, #District, #suburb, #Salt]\n",
              "8          Coronavirus Briefing: What Happened Today  ...  [#reporting, #colleagues, #Sheila, #Kaplan, #S...\n",
              "9          Coronavirus Briefing: What Happened Today  ...  [#Americans, #begin, #taking, #vaccines, #coro...\n",
              "\n",
              "[10 rows x 4 columns]"
            ]
          },
          "metadata": {
            "tags": []
          },
          "execution_count": 12
        }
      ]
    }
  ]
}